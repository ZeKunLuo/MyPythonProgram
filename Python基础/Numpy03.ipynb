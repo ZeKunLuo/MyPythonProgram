{
 "cells": [
  {
   "cell_type": "markdown",
   "metadata": {},
   "source": [
    "### 数组数据选择与操作\n"
   ]
  },
  {
   "cell_type": "markdown",
   "metadata": {},
   "source": [
    "### put 与  take函数"
   ]
  },
  {
   "cell_type": "code",
   "execution_count": 1,
   "metadata": {},
   "outputs": [
    {
     "name": "stdout",
     "output_type": "stream",
     "text": [
      "[[[2 2 6]\n",
      "  [0 5 7]\n",
      "  [5 7 0]]\n",
      "\n",
      " [[7 4 4]\n",
      "  [0 5 8]\n",
      "  [5 6 4]]\n",
      "\n",
      " [[2 8 4]\n",
      "  [6 0 4]\n",
      "  [1 9 3]]]\n"
     ]
    }
   ],
   "source": [
    "#函数中参数axis的意义就是对应的维度\n",
    "#看下面的例子\n",
    "import numpy as np\n",
    "array = np.random.randint(10,size=(3,3,3))\n",
    "print(array)"
   ]
  },
  {
   "cell_type": "code",
   "execution_count": 2,
   "metadata": {},
   "outputs": [
    {
     "name": "stdout",
     "output_type": "stream",
     "text": [
      "[[11 14 14]\n",
      " [ 6 10 19]\n",
      " [11 22  7]]\n"
     ]
    }
   ],
   "source": [
    "print(array.sum(axis=0))"
   ]
  },
  {
   "cell_type": "code",
   "execution_count": 3,
   "metadata": {},
   "outputs": [
    {
     "name": "stdout",
     "output_type": "stream",
     "text": [
      "[[ 7 14 13]\n",
      " [12 15 16]\n",
      " [ 9 17 11]]\n",
      "[[10 12 12]\n",
      " [15 13 15]\n",
      " [14 10 13]]\n"
     ]
    }
   ],
   "source": [
    "print(array.sum(axis=1))\n",
    "print(array.sum(axis=2))"
   ]
  },
  {
   "cell_type": "code",
   "execution_count": 4,
   "metadata": {},
   "outputs": [
    {
     "name": "stdout",
     "output_type": "stream",
     "text": [
      "[[[2 2 6]\n",
      "  [0 5 7]\n",
      "  [5 7 0]]\n",
      "\n",
      " [[7 4 4]\n",
      "  [0 5 8]\n",
      "  [5 6 4]]\n",
      "\n",
      " [[2 8 4]\n",
      "  [6 0 4]\n",
      "  [1 9 3]]]\n",
      "2\n",
      "[2 2]\n"
     ]
    }
   ],
   "source": [
    "# take 函数从数组中取数\n",
    "print(array)\n",
    "print(array.take(1))        #先把数组变成一维在取数\n",
    "print(array.take([1,1]))"
   ]
  },
  {
   "cell_type": "code",
   "execution_count": 11,
   "metadata": {},
   "outputs": [
    {
     "name": "stdout",
     "output_type": "stream",
     "text": [
      "[[2 2]\n",
      " [6 6]]\n",
      "[[2 2]\n",
      " [6 6]]\n"
     ]
    }
   ],
   "source": [
    "print(array.take([[1,1],[2,2]])) #把数组变成一维然后取数\n",
    "print(array.take([[1,1],[2,2]],axis=None))"
   ]
  },
  {
   "cell_type": "code",
   "execution_count": 10,
   "metadata": {},
   "outputs": [
    {
     "name": "stdout",
     "output_type": "stream",
     "text": [
      "[[[[7 4 4]\n",
      "   [0 5 8]\n",
      "   [5 6 4]]\n",
      "\n",
      "  [[7 4 4]\n",
      "   [0 5 8]\n",
      "   [5 6 4]]]\n",
      "\n",
      "\n",
      " [[[2 8 4]\n",
      "   [6 0 4]\n",
      "   [1 9 3]]\n",
      "\n",
      "  [[2 8 4]\n",
      "   [6 0 4]\n",
      "   [1 9 3]]]]\n",
      "[[[[0 5 7]\n",
      "   [0 5 7]]\n",
      "\n",
      "  [[5 7 0]\n",
      "   [5 7 0]]]\n",
      "\n",
      "\n",
      " [[[0 5 8]\n",
      "   [0 5 8]]\n",
      "\n",
      "  [[5 6 4]\n",
      "   [5 6 4]]]\n",
      "\n",
      "\n",
      " [[[6 0 4]\n",
      "   [6 0 4]]\n",
      "\n",
      "  [[1 9 3]\n",
      "   [1 9 3]]]]\n",
      "[[[[2 2]\n",
      "   [6 6]]\n",
      "\n",
      "  [[5 5]\n",
      "   [7 7]]\n",
      "\n",
      "  [[7 7]\n",
      "   [0 0]]]\n",
      "\n",
      "\n",
      " [[[4 4]\n",
      "   [4 4]]\n",
      "\n",
      "  [[5 5]\n",
      "   [8 8]]\n",
      "\n",
      "  [[6 6]\n",
      "   [4 4]]]\n",
      "\n",
      "\n",
      " [[[8 8]\n",
      "   [4 4]]\n",
      "\n",
      "  [[0 0]\n",
      "   [4 4]]\n",
      "\n",
      "  [[9 9]\n",
      "   [3 3]]]]\n"
     ]
    }
   ],
   "source": [
    "print(array.take([[1,1],[2,2]],axis=0))#按第一个维度取然后构成新数组\n",
    "print(array.take([[1,1],[2,2]],axis=1))\n",
    "print(array.take([[1,1],[2,2]],axis=2))"
   ]
  },
  {
   "cell_type": "code",
   "execution_count": 13,
   "metadata": {},
   "outputs": [
    {
     "name": "stdout",
     "output_type": "stream",
     "text": [
      "[[[ 2 11 12]\n",
      "  [13  5  7]\n",
      "  [ 5  7  0]]\n",
      "\n",
      " [[ 7  4  4]\n",
      "  [ 0  5  8]\n",
      "  [ 5  6  4]]\n",
      "\n",
      " [[ 2  8  4]\n",
      "  [ 6  0  4]\n",
      "  [ 1  9  3]]]\n",
      "[[[ 2 11 12]\n",
      "  [13  5  7]\n",
      "  [ 5  7  0]]\n",
      "\n",
      " [[ 7  4  4]\n",
      "  [ 0  5  8]\n",
      "  [ 5  6  4]]\n",
      "\n",
      " [[ 2  8  4]\n",
      "  [ 6  0  4]\n",
      "  [ 1  9  3]]]\n"
     ]
    }
   ],
   "source": [
    "#ndarray.put(indices, values, mode='raise') \n",
    "#put函数先调用了flat转换成一维数组\n",
    "print ( array )\n",
    "array.put( ( 1, 2, 3 ), ( 11, 12, 13, 14) )  #根据indices中对应下标，到values中取值，用来修改数组中对应位置的值\n",
    "print ( array )"
   ]
  },
  {
   "cell_type": "markdown",
   "metadata": {},
   "source": [
    "### sort,argsort,searchsorted"
   ]
  },
  {
   "cell_type": "code",
   "execution_count": 45,
   "metadata": {},
   "outputs": [
    {
     "name": "stdout",
     "output_type": "stream",
     "text": [
      "[[0 5 5 1]\n",
      " [8 4 6 0]\n",
      " [4 4 6 7]]\n"
     ]
    }
   ],
   "source": [
    "#ndarray.sort(axis=-1, kind='quicksort', order=None)\n",
    "matrix = np.random.randint(10,size=(3,4))\n",
    "print(matrix)"
   ]
  },
  {
   "cell_type": "code",
   "execution_count": 47,
   "metadata": {},
   "outputs": [
    {
     "name": "stdout",
     "output_type": "stream",
     "text": [
      "[[0 1 5 5]\n",
      " [0 4 6 8]\n",
      " [4 4 6 7]]\n"
     ]
    }
   ],
   "source": [
    "matrix.sort() #axis默认为1按行排序\n",
    "print(matrix)"
   ]
  },
  {
   "cell_type": "code",
   "execution_count": 48,
   "metadata": {},
   "outputs": [
    {
     "name": "stdout",
     "output_type": "stream",
     "text": [
      "[[0 1 5 5]\n",
      " [0 4 6 7]\n",
      " [4 4 6 8]]\n"
     ]
    }
   ],
   "source": [
    "matrix.sort(axis=0) #列排序\n",
    "print(matrix)"
   ]
  },
  {
   "cell_type": "code",
   "execution_count": 49,
   "metadata": {},
   "outputs": [
    {
     "name": "stdout",
     "output_type": "stream",
     "text": [
      "[[0 1 5 5]\n",
      " [0 4 6 7]\n",
      " [4 4 6 8]]\n",
      "[[0 1 2 3]\n",
      " [0 1 2 3]\n",
      " [0 1 2 3]]\n",
      "[[0 1 5 5]\n",
      " [0 4 6 7]\n",
      " [4 4 6 8]]\n",
      "[[0 0 0 0]\n",
      " [1 1 1 1]\n",
      " [2 2 2 2]]\n",
      "[[0 1 5 5]\n",
      " [0 4 6 7]\n",
      " [4 4 6 8]]\n"
     ]
    }
   ],
   "source": [
    "#ndarray.argsort(axis=-1, kind='quicksort', order=None) 返回排序的下标\n",
    "print ( matrix )\n",
    "print ( matrix.argsort ( ) )  #默认按照axis=1排序（每行排序）\n",
    "print ( matrix )\n",
    "print ( matrix.argsort ( axis = 0 ) ) #按照axis = 0排序（每列排序）\n",
    "print ( matrix )"
   ]
  },
  {
   "cell_type": "code",
   "execution_count": 51,
   "metadata": {},
   "outputs": [
    {
     "name": "stdout",
     "output_type": "stream",
     "text": [
      "4\n",
      "5\n",
      "4\n"
     ]
    }
   ],
   "source": [
    "#ndarray.searchsorted(v, side='left', sorter=None) #找出v应该排序的位置\n",
    "m = np.array ( [\n",
    "    [ 5, 3, 8, 4, 2 ],\n",
    "    [ 7, 1, 6, 9, 3 ],\n",
    "    [ 8, 2, 6, 3, 7]\n",
    "] )\n",
    "#print ( m.searchsorted ( 5 , sorter=m.argsort( ) ) )  # 只作用于1-D数组\n",
    "m=np.array( [ 1,2,5,6,9] )\n",
    "print ( m.searchsorted ( 8 ) )  #返回8在m数组排序应该在对的位置，只对有序作用\n",
    "m=np.array( [ 2, 5, 4, 9, 7 ] )\n",
    "print ( m.searchsorted ( 8 ) )   #对无序可以运行，意义不大\n",
    "print ( m.searchsorted ( 8 , sorter=m.argsort( ) ) ) #先排序在search"
   ]
  },
  {
   "cell_type": "markdown",
   "metadata": {},
   "source": [
    "### repeat函数"
   ]
  },
  {
   "cell_type": "code",
   "execution_count": 53,
   "metadata": {},
   "outputs": [
    {
     "name": "stdout",
     "output_type": "stream",
     "text": [
      "[5 5 3 3 8 8 7 7 1 1 6 6 8 8 2 2 6 6]\n",
      "[[5 3 8]\n",
      " [5 3 8]\n",
      " [7 1 6]\n",
      " [7 1 6]\n",
      " [8 2 6]\n",
      " [8 2 6]]\n",
      "[[5 5 3 3 8 8]\n",
      " [7 7 1 1 6 6]\n",
      " [8 8 2 2 6 6]]\n"
     ]
    }
   ],
   "source": [
    "#ndarray.repeat(repeatnum, axis=None)  #按照指定axis维度复制指定次数\n",
    "m = np.array ( [\n",
    "    [ 5, 3, 8 ],\n",
    "    [ 7, 1, 6 ],\n",
    "    [ 8, 2, 6 ]\n",
    "] )\n",
    "\n",
    "print ( m.repeat ( 2 ) )  #复制2次，没有指定在哪个维度先flat，再复制\n",
    "\n",
    "print ( m.repeat ( 2 ,axis = 0) )  #按照行复制2次\n",
    "print ( m.repeat ( 2 ,axis = 1) )  #按照列复制两次"
   ]
  },
  {
   "cell_type": "code",
   "execution_count": 57,
   "metadata": {},
   "outputs": [
    {
     "name": "stdout",
     "output_type": "stream",
     "text": [
      "[[2 3 4]\n",
      " [4 3 2]\n",
      " [3 3 4]]\n"
     ]
    }
   ],
   "source": [
    "#ndarray.choose(choices, out=None, mode='raise')  #把数组当做下标。从choices中取对应的值。\n",
    "m = np.array ( [   #索引\n",
    "    [ 1, 2, 3 ],\n",
    "    [ 3, 2, 1 ],\n",
    "    [ 2, 2, 3 ]\n",
    "] )\n",
    "\n",
    "#print ( m.choose ( [ -1, -2, -3, -4, -5 ] ) )   #被选的值\n",
    "print(m.choose([1,2,3,4]))"
   ]
  },
  {
   "cell_type": "code",
   "execution_count": 61,
   "metadata": {},
   "outputs": [
    {
     "name": "stdout",
     "output_type": "stream",
     "text": [
      "[[1 1 3]\n",
      " [1 0 0]\n",
      " [2 2 0]]\n",
      "(array([0, 0, 0, 1, 2, 2], dtype=int64), array([0, 1, 2, 0, 0, 1], dtype=int64))\n"
     ]
    }
   ],
   "source": [
    "# ndarray.nonzero() 返回非零元素的下标索引\n",
    "m = np.array ( [   \n",
    "    [ 1, 1, 3 ],\n",
    "    [ 1, 0, 0 ],\n",
    "    [ 2, 2, 0 ]\n",
    "] )\n",
    "print ( m )返回非零的下标\n",
    "print ( m.nonzero( ) ) #。返回两个数组，一个按照行，一个按照列，行列对应形成非零的下标"
   ]
  },
  {
   "cell_type": "code",
   "execution_count": 69,
   "metadata": {},
   "outputs": [
    {
     "name": "stdout",
     "output_type": "stream",
     "text": [
      "[0 4]\n",
      "[[1 3]\n",
      " [4 0]\n",
      " [2 0]]\n",
      "[[1 0 3]\n",
      " [2 2 0]]\n"
     ]
    }
   ],
   "source": [
    "#ndarray.compress(condition, axis=None, out=None)\n",
    "#返回按照axis维度的切片，条件是1-D布尔数组\n",
    "m = np.array ( [   \n",
    "    [ 1, 0, 3 ],\n",
    "    [ 4, 2, 0 ],\n",
    "    [ 2, 2, 0 ]\n",
    "] )\n",
    "print ( m.compress ( [False , True, False, True ] ) )    #按照条件返回元素axis=None，等于先flat再操作\n",
    "print ( m.compress ( [True , False, True ], axis = 1 ) )  #对行切片\n",
    "print( m.compress ( [True , False, True],axis = 0 ))      #对列切"
   ]
  },
  {
   "cell_type": "code",
   "execution_count": 100,
   "metadata": {},
   "outputs": [
    {
     "name": "stdout",
     "output_type": "stream",
     "text": [
      "[[3 9 0 1 9 0]\n",
      " [1 0 0 7 7 4]\n",
      " [8 7 6 3 4 5]\n",
      " [7 3 6 9 7 1]]\n",
      "[1 0 0 7 7 4]\n"
     ]
    }
   ],
   "source": [
    "# partition函数的用法\n",
    "#建设我们想找出一个二维数组列中第二小的元素\n",
    "#有下面两种方法\n",
    "n = np.random.randint(10,size=(4,6))\n",
    "print(n)\n",
    "print(n[1])"
   ]
  },
  {
   "cell_type": "code",
   "execution_count": 102,
   "metadata": {},
   "outputs": [
    {
     "name": "stdout",
     "output_type": "stream",
     "text": [
      "[[1 0 0 1 4 0]\n",
      " [3 3 0 3 7 1]\n",
      " [7 7 6 7 7 4]\n",
      " [8 9 6 9 9 5]]\n",
      "[3 3 0 3 7 1]\n",
      "[[1 0 0 1 4 0]\n",
      " [3 3 0 3 7 1]\n",
      " [8 7 6 7 9 5]\n",
      " [7 9 6 9 7 4]]\n",
      "[3 3 0 3 7 1]\n"
     ]
    }
   ],
   "source": [
    "r1 = np.sort(n,axis=0)  #按列进行排序\n",
    "print(r1)\n",
    "print(r1[1])             #用sort方法进行排序之后在输出每列第二小的元素\n",
    "n.partition(1,axis=0)    #将每列中元素第二大的元素放在每列索引为1的位置\n",
    "print(n)\n",
    "print(n[1])              #按顺序输出每列中第二小的元素"
   ]
  },
  {
   "cell_type": "markdown",
   "metadata": {},
   "source": [
    "```python\n",
    "有人肯定会问既然用sort排序就可以得到结果为什么还要多此一举用partition嘞？\n",
    "原因就在于在数组的元素很多的时候partition要比sort快的多因为sort要对\n",
    "所有元素排序但是partition有点类似于快排只要找出第而小的位置放在与sort升序\n",
    "排列对应的索引位置其他的元素比第二小元素小的放在其索引之前大的放在之后\n",
    "且其他的元素并不关系没有按照顺序排列如用sort和partition之后的数组中比较其\n",
    "最后一列,sort的为0145顺序排列,partition的为0154没有顺序\n",
    "```"
   ]
  },
  {
   "cell_type": "code",
   "execution_count": 87,
   "metadata": {},
   "outputs": [
    {
     "name": "stdout",
     "output_type": "stream",
     "text": [
      "[3 1 2 0 4 5 6 7]\n",
      "[3 1 5 0 4 2 6 7]\n"
     ]
    }
   ],
   "source": [
    "#ndarray.argpartition(kth, axis=-1, kind='introselect', order=None)\n",
    "#返回下标\n",
    "m = np.array ( [ 5, 2, 7, 1, 8, 3, 4, 6 ] )\n",
    "print ( m.argpartition ( 1 ) )    #找出第二大的数据，放在索引为1的位置，其他元素小的放前面，大的放后面\n",
    "print(m.argpartition(2))"
   ]
  },
  {
   "cell_type": "markdown",
   "metadata": {},
   "source": [
    "### 数组的计算处理"
   ]
  },
  {
   "cell_type": "code",
   "execution_count": 105,
   "metadata": {},
   "outputs": [
    {
     "name": "stdout",
     "output_type": "stream",
     "text": [
      "1\n",
      "8\n",
      "9\n",
      "7\n",
      "[4 7 4 6]\n",
      "[6 4 7]\n"
     ]
    }
   ],
   "source": [
    "#ndarray.argmax(axis=None, out=None) 返回最大值下标\n",
    "m = np.array ( [ 5, 8, 7, 1, 8, 3, 4, 6 ] )\n",
    "print ( m.argmax ( ) )     #只返回第一个最大值下标\n",
    "#ndarray.max(axis=None, out=None) 返回最大值下标\n",
    "print ( m.max ( ) )  \n",
    "m = np.array ( [   \n",
    "    [ 1, 4, 3, 6 ],\n",
    "    [ 4, 2, 1, 0 ],\n",
    "    [ 2, 7, 4, 1 ]\n",
    "] )\n",
    "print ( m.argmax ( ) ) #先flat后下标\n",
    "print ( m.max ( ) )  \n",
    "print ( m.max ( axis = 0 ) )   #每列最大值\n",
    "print ( m.max ( axis = 1 ) )   #每行最大值"
   ]
  },
  {
   "cell_type": "code",
   "execution_count": 106,
   "metadata": {},
   "outputs": [
    {
     "name": "stdout",
     "output_type": "stream",
     "text": [
      "35\n",
      "[[35]]\n",
      "35.0\n",
      "[ 7 13  8  7]\n",
      "[[ 7 13  8  7]]\n"
     ]
    }
   ],
   "source": [
    "#ndarray.sum(axis=None, dtype=None, out=None, keepdims=False) #求和\n",
    "m = np.array ( [   \n",
    "    [ 1, 4, 3, 6 ],\n",
    "    [ 4, 2, 1, 0 ],\n",
    "    [ 2, 7, 4, 1 ]\n",
    "] )\n",
    "print ( m.sum ( ) )\n",
    "print ( m.sum ( keepdims = True ) )  #保持维度\n",
    "print ( m.sum ( dtype = np.float32 ) )\n",
    "print ( m.sum ( axis = 0 ) )  #每列想加\n",
    "print ( m.sum ( axis = 0, keepdims = True ) )"
   ]
  },
  {
   "cell_type": "code",
   "execution_count": 107,
   "metadata": {},
   "outputs": [
    {
     "name": "stdout",
     "output_type": "stream",
     "text": [
      "[ 1  5  8 14 18 20 21 21 23 30 34 35]\n",
      "[ 1.  5.  8. 14. 18. 20. 21. 21. 23. 30. 34. 35.]\n",
      "[[ 1  4  3  6]\n",
      " [ 5  6  4  6]\n",
      " [ 7 13  8  7]]\n"
     ]
    }
   ],
   "source": [
    "#ndarray.cumsum(axis=None, dtype=None, out=None)  #累加和\n",
    "m = np.array ( [   \n",
    "    [ 1, 4, 3, 6 ],\n",
    "    [ 4, 2, 1, 0 ],\n",
    "    [ 2, 7, 4, 1 ]\n",
    "] )\n",
    "print ( m.cumsum ( ) )\n",
    "print ( m.cumsum ( dtype = np.float32 ) )\n",
    "print ( m.cumsum ( axis = 0 ) )  #按列累加"
   ]
  },
  {
   "cell_type": "code",
   "execution_count": 148,
   "metadata": {},
   "outputs": [
    {
     "name": "stdout",
     "output_type": "stream",
     "text": [
      "7\n",
      "6\n",
      "11\n",
      "11\n",
      "[[1 4 2]\n",
      " [4 2 7]\n",
      " [3 1 4]\n",
      " [6 0 1]]\n",
      "11\n"
     ]
    }
   ],
   "source": [
    "#ndarray.trace(offset=0, axis1=0, axis2=1, dtype=None, out=None)\n",
    "# 返回对角线的和\n",
    "m = np.array ( [\n",
    "    [ 1, 4, 3, 6 ],\n",
    "    [ 4, 2, 1, 0 ],\n",
    "    [ 2, 7, 4, 1 ]\n",
    "] )\n",
    "print (  m.trace ( ) )  #对角线1，2，4 (偏移为0 )的和\n",
    "print (  m.trace ( offset = 1 ) )  #对角线4,1,1\n",
    "print(m.trace(offset=-1)) #对角线4 7\n",
    "print (  m.trace ( offset = 1,axis1 = 1, axis2 = 0 ) )  #对角线4，7（偏移为1, 列的偏移为O）的和\n",
    "print(m.T )\n",
    "print(m.T.trace(offset=1))"
   ]
  },
  {
   "cell_type": "code",
   "execution_count": 112,
   "metadata": {},
   "outputs": [
    {
     "name": "stdout",
     "output_type": "stream",
     "text": [
      "2.9166666666666665\n",
      "2\n",
      "[[2.91666667]]\n",
      "[2.33333333 4.33333333 2.66666667 2.33333333]\n",
      "2.9166666666666665\n"
     ]
    }
   ],
   "source": [
    "# ndarray.mean(axis=None, dtype=None, out=None, keepdims=False)\n",
    "# 求均值\n",
    "m = np.array ( [   \n",
    "    [ 1, 4, 3, 6 ],\n",
    "    [ 4, 2, 1, 0 ],\n",
    "    [ 2, 7, 4, 1 ]\n",
    "] )\n",
    "print (  m.mean ( ) )  #全部元素的平均值\n",
    "print (  m.mean ( dtype = np.int32) )  #全部元素的平均值\n",
    "print (  m.mean ( keepdims = True) )  #全部元素的平均值\n",
    "print (  m.mean ( axis = 0 ) )  #行的平均值（行想加，除以行数）\n",
    "print (  m.mean ( axis = (0,1) ) )  #行列的平均值\n"
   ]
  },
  {
   "cell_type": "code",
   "execution_count": 113,
   "metadata": {},
   "outputs": [
    {
     "name": "stdout",
     "output_type": "stream",
     "text": [
      "4.243055555555556\n",
      "4.243055555555556\n"
     ]
    }
   ],
   "source": [
    "#ndarray.var(axis=None, dtype=None, out=None, ddof=0, keepdims=False)\n",
    "#标准方差\n",
    "m = np.array ( [   \n",
    "    [ 1, 4, 3, 6 ],\n",
    "    [ 4, 2, 1, 0 ],\n",
    "    [ 2, 7, 4, 1 ]\n",
    "] )\n",
    "print ( m.var ( ) )\n",
    "#下面是等价计算方式\n",
    "mn=m.mean ( )   # 样本平均值\n",
    "#print ( mn )\n",
    "m=m-mn    #计算均值离差\n",
    "#print ( m )\n",
    "m=m*m    #离差的平方\n",
    "#print ( m )   #差的平方的均值\n",
    "print ( m.mean ( ) )"
   ]
  },
  {
   "cell_type": "code",
   "execution_count": 114,
   "metadata": {},
   "outputs": [
    {
     "name": "stdout",
     "output_type": "stream",
     "text": [
      "2.0598678490513795\n",
      "2.0598678490513795\n"
     ]
    }
   ],
   "source": [
    "#ndarray.std(axis=None, dtype=None, out=None, ddof=0, keepdims=False)\n",
    "#标准偏差\n",
    "m = np.array ( [\n",
    "    [ 1, 4, 3, 6 ],\n",
    "    [ 4, 2, 1, 0 ],\n",
    "    [ 2, 7, 4, 1 ]\n",
    "] )\n",
    "print ( m.std ( ) )\n",
    "# 下面是标准偏差的计算方式\n",
    "print ( np.sqrt ( m.var ( ) ) )  #方差开根号"
   ]
  },
  {
   "cell_type": "code",
   "execution_count": 115,
   "metadata": {},
   "outputs": [
    {
     "name": "stdout",
     "output_type": "stream",
     "text": [
      "[1.55555556 4.22222222 1.55555556 6.88888889]\n",
      "[1.5555555555555556, 4.222222222222222, 1.5555555555555554, 6.888888888888889]\n"
     ]
    }
   ],
   "source": [
    "#ndarray.var(axis=None, dtype=None, out=None, ddof=0, keepdims=False)\n",
    "m = np.array ( [\n",
    "    [ 1, 4, 3, 6 ],\n",
    "    [ 4, 2, 1, 0 ],\n",
    "    [ 2, 7, 4, 1 ]\n",
    "] )\n",
    "print ( m.var ( axis = 0 ) )\n",
    "#输出每列的方差列表\n",
    "print (  [ m [ : , 0  ].var ( ), m [ : , 1  ].var ( ), m [ : , 2  ].var ( ), m [ : , 3  ].var ( ) ] )"
   ]
  },
  {
   "cell_type": "code",
   "execution_count": 116,
   "metadata": {},
   "outputs": [
    {
     "name": "stdout",
     "output_type": "stream",
     "text": [
      "4.628787878787879\n",
      "4.243055555555556\n",
      "4.243055555555556\n"
     ]
    }
   ],
   "source": [
    "m = np.array ( [\n",
    "    [ 1, 4, 3, 6 ],\n",
    "    [ 4, 2, 1, 0 ],\n",
    "    [ 2, 7, 4, 1 ]\n",
    "] )\n",
    "print ( m.var ( ddof = 1 ) )  #无偏方差 ，按公式比有偏大   \n",
    "print ( m.var ( ddof = 0 ) )  #有偏方差\n",
    "print ( m.var (  ) )"
   ]
  },
  {
   "cell_type": "code",
   "execution_count": 117,
   "metadata": {},
   "outputs": [
    {
     "name": "stdout",
     "output_type": "stream",
     "text": [
      "96768\n"
     ]
    }
   ],
   "source": [
    "# ndarray.prod(axis=None, dtype=None, out=None, keepdims=False)\n",
    "m = np.array ( [\n",
    "    [ 1, 4, 3, 6 ],\n",
    "    [ 4, 2, 1, 3 ],\n",
    "    [ 2, 7, 4, 1 ]\n",
    "] )\n",
    "print ( m.prod ( ) )  #全部累乘"
   ]
  },
  {
   "cell_type": "code",
   "execution_count": 118,
   "metadata": {},
   "outputs": [
    {
     "name": "stdout",
     "output_type": "stream",
     "text": [
      "[    1     4    12    72   288   576   576  1728  3456 24192 96768 96768]\n"
     ]
    }
   ],
   "source": [
    "print(m.cumprod()) #累乘列表"
   ]
  },
  {
   "cell_type": "code",
   "execution_count": 120,
   "metadata": {},
   "outputs": [
    {
     "name": "stdout",
     "output_type": "stream",
     "text": [
      "False\n"
     ]
    }
   ],
   "source": [
    "#ndarray.all(axis=None, out=None, keepdims=False)\n",
    "m = np.array ( [\n",
    "    [ 1, 4, 0, 6 ],\n",
    "    [ 4, 2, 1, 3 ],\n",
    "    [ 2, 7, 4, 1 ]\n",
    "] )\n",
    "print (a m.all ( ) )  #all elements is true return true"
   ]
  },
  {
   "cell_type": "code",
   "execution_count": 121,
   "metadata": {},
   "outputs": [
    {
     "name": "stdout",
     "output_type": "stream",
     "text": [
      "True\n"
     ]
    }
   ],
   "source": [
    "print(m.any())    # a element is true return true"
   ]
  },
  {
   "cell_type": "code",
   "execution_count": 124,
   "metadata": {},
   "outputs": [
    {
     "name": "stdout",
     "output_type": "stream",
     "text": [
      "[1 2 0]\n",
      "[0 0]\n",
      "[4 2]\n"
     ]
    }
   ],
   "source": [
    "#ndarray.diagonal(offset=0, axis1=0, axis2=1) 按照坐标轴axis1与axis2返回对角线,返回的是1-D数组\n",
    "m = np.array ( [   \n",
    "    [ 1, 0, 3 ],\n",
    "    [ 4, 2, 0 ],\n",
    "    [ 2, 2, 0 ]\n",
    "] )\n",
    "print ( m.diagonal ( ) )\n",
    "print ( m.diagonal (1 ) )\n",
    "print ( m.diagonal (1, axis1 = 1, axis2 = 0) )  #下三角对角"
   ]
  },
  {
   "cell_type": "code",
   "execution_count": 149,
   "metadata": {},
   "outputs": [
    {
     "name": "stdout",
     "output_type": "stream",
     "text": [
      "[42 23 32]\n",
      "[15 29 17 15]\n"
     ]
    }
   ],
   "source": [
    "m = np.array ( [\n",
    "    [ 1, 4, 3, 6 ],\n",
    "    [ 4, 2, 1, 3 ],\n",
    "    [ 2, 7, 4, 1 ]\n",
    "] )\n",
    "\n",
    "x = np.array ( [1,2,3,4] )\n",
    "print ( m @ x)\n",
    "# print ( x @ m) 不满足内积的条件行不等于列\n",
    "\n",
    "y = np.array ( [1,2,3] )\n",
    "print ( y @ m)"
   ]
  },
  {
   "cell_type": "code",
   "execution_count": null,
   "metadata": {},
   "outputs": [],
   "source": []
  }
 ],
 "metadata": {
  "kernelspec": {
   "display_name": "Python 3",
   "language": "python",
   "name": "python3"
  },
  "language_info": {
   "codemirror_mode": {
    "name": "ipython",
    "version": 3
   },
   "file_extension": ".py",
   "mimetype": "text/x-python",
   "name": "python",
   "nbconvert_exporter": "python",
   "pygments_lexer": "ipython3",
   "version": "3.7.4"
  }
 },
 "nbformat": 4,
 "nbformat_minor": 4
}
