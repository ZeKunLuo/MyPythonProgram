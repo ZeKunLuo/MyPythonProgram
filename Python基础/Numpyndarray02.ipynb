{
 "cells": [
  {
   "cell_type": "code",
   "execution_count": 4,
   "metadata": {},
   "outputs": [
    {
     "name": "stdout",
     "output_type": "stream",
     "text": [
      "[1]\n",
      "[[7 4 0]\n",
      " [4 5 3]\n",
      " [4 3 6]]\n"
     ]
    }
   ],
   "source": [
    "#先定义一个随机数数组和一个一维数组\n",
    "import numpy as np\n",
    "rmatrix = np.random.randint(10,size=(3,3))\n",
    "D1 = np.array([1])\n",
    "print(D1)\n",
    "print(rmatrix)"
   ]
  },
  {
   "cell_type": "code",
   "execution_count": 8,
   "metadata": {},
   "outputs": [
    {
     "name": "stdout",
     "output_type": "stream",
     "text": [
      "1\n",
      "7\n",
      "5\n",
      "6\n",
      "7\n"
     ]
    },
    {
     "ename": "ValueError",
     "evalue": "can only convert an array of size 1 to a Python scalar",
     "output_type": "error",
     "traceback": [
      "\u001b[1;31m---------------------------------------------------------------------------\u001b[0m",
      "\u001b[1;31mValueError\u001b[0m                                Traceback (most recent call last)",
      "\u001b[1;32m<ipython-input-8-c84aee7a18f1>\u001b[0m in \u001b[0;36m<module>\u001b[1;34m\u001b[0m\n\u001b[0;32m      5\u001b[0m \u001b[0mprint\u001b[0m\u001b[1;33m(\u001b[0m\u001b[0mrmatrix\u001b[0m\u001b[1;33m.\u001b[0m\u001b[0mitem\u001b[0m\u001b[1;33m(\u001b[0m\u001b[1;36m8\u001b[0m\u001b[1;33m)\u001b[0m\u001b[1;33m)\u001b[0m\u001b[1;33m\u001b[0m\u001b[1;33m\u001b[0m\u001b[0m\n\u001b[0;32m      6\u001b[0m \u001b[0mprint\u001b[0m\u001b[1;33m(\u001b[0m\u001b[0mrmatrix\u001b[0m\u001b[1;33m.\u001b[0m\u001b[0mitem\u001b[0m\u001b[1;33m(\u001b[0m\u001b[1;33m(\u001b[0m\u001b[1;36m0\u001b[0m\u001b[1;33m,\u001b[0m\u001b[1;36m0\u001b[0m\u001b[1;33m)\u001b[0m\u001b[1;33m)\u001b[0m\u001b[1;33m)\u001b[0m\u001b[1;33m\u001b[0m\u001b[1;33m\u001b[0m\u001b[0m\n\u001b[1;32m----> 7\u001b[1;33m \u001b[0mprint\u001b[0m\u001b[1;33m(\u001b[0m\u001b[0mrmatrix\u001b[0m\u001b[1;33m.\u001b[0m\u001b[0mitem\u001b[0m\u001b[1;33m(\u001b[0m\u001b[1;33m)\u001b[0m\u001b[1;33m)\u001b[0m   \u001b[1;31m#注意此种方式是错误的\u001b[0m\u001b[1;33m\u001b[0m\u001b[1;33m\u001b[0m\u001b[0m\n\u001b[0m",
      "\u001b[1;31mValueError\u001b[0m: can only convert an array of size 1 to a Python scalar"
     ]
    }
   ],
   "source": [
    "# item函数的使用返回数组值\n",
    "print(D1.item())           #item方法没有设置参数这只对size=1的数组有效\n",
    "print(rmatrix.item(0))     #item方法中其实内部调用了flat方法将数组降成一维然后在取值\n",
    "print(rmatrix.item(4))\n",
    "print(rmatrix.item(8))\n",
    "print(rmatrix.item((0,0)))  #注意用下表组合的形式时不能超过数组维数\n",
    "print(rmatrix.item())   #注意此种方式是错误的"
   ]
  },
  {
   "cell_type": "code",
   "execution_count": 10,
   "metadata": {},
   "outputs": [
    {
     "name": "stdout",
     "output_type": "stream",
     "text": [
      "[[0 4 0]\n",
      " [4 0 3]\n",
      " [4 3 0]]\n"
     ]
    }
   ],
   "source": [
    "# itemset进行值设置\n",
    "rmatrix.itemset(0,0)\n",
    "rmatrix.itemset((1,1),0)\n",
    "rmatrix.itemset((2,2),0)\n",
    "print(rmatrix)"
   ]
  },
  {
   "cell_type": "code",
   "execution_count": 12,
   "metadata": {},
   "outputs": [
    {
     "name": "stdout",
     "output_type": "stream",
     "text": [
      "[[0, 4, 0], [4, 0, 3], [4, 3, 0]]\n",
      "b'\\x00\\x00\\x00\\x00\\x04\\x00\\x00\\x00\\x00\\x00\\x00\\x00\\x04\\x00\\x00\\x00\\x00\\x00\\x00\\x00\\x03\\x00\\x00\\x00\\x04\\x00\\x00\\x00\\x03\\x00\\x00\\x00\\x00\\x00\\x00\\x00'\n",
      "b'\\x00\\x00\\x00\\x00\\x04\\x00\\x00\\x00\\x00\\x00\\x00\\x00\\x04\\x00\\x00\\x00\\x00\\x00\\x00\\x00\\x03\\x00\\x00\\x00\\x04\\x00\\x00\\x00\\x03\\x00\\x00\\x00\\x00\\x00\\x00\\x00'\n",
      "None\n"
     ]
    }
   ],
   "source": [
    "# tolist,tostring,tobytes进行数据结构转换\n",
    "print(rmatrix.tolist())\n",
    "print(rmatrix.tostring())\n",
    "print(rmatrix.tobytes())\n",
    "print(rmatrix.tofile('matrix.text',sep = '@',format = '%03d'))\n",
    "#第一个参数可以是：文件名 与 一个打开的文件描述符对象。\n",
    "#文件名的位置：如果不使用绝对位置，相对位置就是保存在ipynb文件作为相对位置。\n",
    "#输出结果：000@004@000@004@000@003@004@003@000"
   ]
  },
  {
   "cell_type": "code",
   "execution_count": 57,
   "metadata": {},
   "outputs": [
    {
     "name": "stdout",
     "output_type": "stream",
     "text": [
      "[[1.1 2.2 3.3]\n",
      " [4.4 5.5 6.6]\n",
      " [7.7 8.8 9.9]]\n",
      "[[1 2 3]\n",
      " [4 5 6]\n",
      " [7 8 9]]\n",
      "[[1.1 2.2 3.3]\n",
      " [4.4 5.5 6.6]\n",
      " [7.7 8.8 9.9]]\n"
     ]
    }
   ],
   "source": [
    "# astype对数组进行数据处理后return一个新数组\n",
    "a = np.array([[1.1,2.2,3.3],[4.4,5.5,6.6],[7.7,8.8,9.9]],np.float)\n",
    "print(a)\n",
    "print(a.astype(np.int32))\n",
    "# copy方法使用\n",
    "print(a.copy())  # 直接copy一个数组"
   ]
  },
  {
   "cell_type": "code",
   "execution_count": 38,
   "metadata": {},
   "outputs": [
    {
     "name": "stdout",
     "output_type": "stream",
     "text": [
      "[[-1717986918  1072798105 -1717986918  1073846681  1717986918  1074423398]\n",
      " [-1717986918  1074895257           0  1075183616  1717986918  1075471974]\n",
      " [ -858993459  1075760332 -1717986918  1075943833  -858993459  1076088012]]\n",
      "[[1.1 2.2 3.3]\n",
      " [4.4 5.5 6.6]\n",
      " [7.7 8.8 9.9]]\n",
      "[[1.1 2.2 3.3]\n",
      " [4.4 5.5 6.6]\n",
      " [7.7 8.8 9.9]]\n"
     ]
    }
   ],
   "source": [
    "# 数据视图view\n",
    "print(a.view(dtype=np.int32))  #dtype设置数据类型\n",
    "print(a.view(type=np.ndarray)  #数组类型\n",
    "print(a.view(type=np.matrix))  #矩阵类型"
   ]
  },
  {
   "cell_type": "code",
   "execution_count": 50,
   "metadata": {},
   "outputs": [
    {
     "name": "stdout",
     "output_type": "stream",
     "text": [
      "<class 'numpy.ndarray'>\n",
      "<class 'numpy.matrix'>\n",
      "(3, 3)\n",
      "(3, 3)\n",
      "[[[1.1 2.2 3.3]\n",
      "  [4.4 5.5 6.6]\n",
      "  [7.7 8.8 9.9]]]\n",
      "[[1.1 2.2 3.3]\n",
      " [4.4 5.5 6.6]\n",
      " [7.7 8.8 9.9]]\n"
     ]
    }
   ],
   "source": [
    "c = a.view(type=np.ndarray)\n",
    "d = a.view(type=np.matrix)\n",
    "print(type(c))\n",
    "print(type(d))\n",
    "print(c.shape)\n",
    "print(d.shape)\n",
    "# 注意数组能是任意维数的但是矩阵只能是二维的\n",
    "print(c.reshape(1,3,3))\n",
    "print(d.reshape(1,3,3))"
   ]
  },
  {
   "cell_type": "code",
   "execution_count": 56,
   "metadata": {},
   "outputs": [
    {
     "name": "stdout",
     "output_type": "stream",
     "text": [
      "[[[1]]]\n"
     ]
    },
    {
     "ename": "ValueError",
     "evalue": "matrix must be 2-dimensional",
     "output_type": "error",
     "traceback": [
      "\u001b[1;31m---------------------------------------------------------------------------\u001b[0m",
      "\u001b[1;31mValueError\u001b[0m                                Traceback (most recent call last)",
      "\u001b[1;32m<ipython-input-56-8f3de4ef06e7>\u001b[0m in \u001b[0;36m<module>\u001b[1;34m\u001b[0m\n\u001b[0;32m      1\u001b[0m \u001b[0mprint\u001b[0m\u001b[1;33m(\u001b[0m\u001b[0mnp\u001b[0m\u001b[1;33m.\u001b[0m\u001b[0marray\u001b[0m\u001b[1;33m(\u001b[0m\u001b[1;33m[\u001b[0m\u001b[1;33m[\u001b[0m\u001b[1;33m[\u001b[0m\u001b[1;36m1\u001b[0m\u001b[1;33m]\u001b[0m\u001b[1;33m]\u001b[0m\u001b[1;33m]\u001b[0m\u001b[1;33m)\u001b[0m\u001b[1;33m)\u001b[0m\u001b[1;31m#数组能是任意维不会报错\u001b[0m\u001b[1;33m\u001b[0m\u001b[1;33m\u001b[0m\u001b[0m\n\u001b[1;32m----> 2\u001b[1;33m \u001b[0mprint\u001b[0m\u001b[1;33m(\u001b[0m\u001b[0mnp\u001b[0m\u001b[1;33m.\u001b[0m\u001b[0mmat\u001b[0m\u001b[1;33m(\u001b[0m\u001b[1;33m[\u001b[0m\u001b[1;33m[\u001b[0m\u001b[1;33m[\u001b[0m\u001b[1;36m1\u001b[0m\u001b[1;33m]\u001b[0m\u001b[1;33m]\u001b[0m\u001b[1;33m]\u001b[0m\u001b[1;33m)\u001b[0m\u001b[1;33m)\u001b[0m\u001b[1;31m#矩阵只能是2维会报错\u001b[0m\u001b[1;33m\u001b[0m\u001b[1;33m\u001b[0m\u001b[0m\n\u001b[0m",
      "\u001b[1;32mD:\\Anaconda\\lib\\site-packages\\numpy\\matrixlib\\defmatrix.py\u001b[0m in \u001b[0;36masmatrix\u001b[1;34m(data, dtype)\u001b[0m\n\u001b[0;32m     69\u001b[0m \u001b[1;33m\u001b[0m\u001b[0m\n\u001b[0;32m     70\u001b[0m     \"\"\"\n\u001b[1;32m---> 71\u001b[1;33m     \u001b[1;32mreturn\u001b[0m \u001b[0mmatrix\u001b[0m\u001b[1;33m(\u001b[0m\u001b[0mdata\u001b[0m\u001b[1;33m,\u001b[0m \u001b[0mdtype\u001b[0m\u001b[1;33m=\u001b[0m\u001b[0mdtype\u001b[0m\u001b[1;33m,\u001b[0m \u001b[0mcopy\u001b[0m\u001b[1;33m=\u001b[0m\u001b[1;32mFalse\u001b[0m\u001b[1;33m)\u001b[0m\u001b[1;33m\u001b[0m\u001b[1;33m\u001b[0m\u001b[0m\n\u001b[0m\u001b[0;32m     72\u001b[0m \u001b[1;33m\u001b[0m\u001b[0m\n\u001b[0;32m     73\u001b[0m \u001b[1;33m\u001b[0m\u001b[0m\n",
      "\u001b[1;32mD:\\Anaconda\\lib\\site-packages\\numpy\\matrixlib\\defmatrix.py\u001b[0m in \u001b[0;36m__new__\u001b[1;34m(subtype, data, dtype, copy)\u001b[0m\n\u001b[0;32m    149\u001b[0m         \u001b[0mshape\u001b[0m \u001b[1;33m=\u001b[0m \u001b[0marr\u001b[0m\u001b[1;33m.\u001b[0m\u001b[0mshape\u001b[0m\u001b[1;33m\u001b[0m\u001b[1;33m\u001b[0m\u001b[0m\n\u001b[0;32m    150\u001b[0m         \u001b[1;32mif\u001b[0m \u001b[1;33m(\u001b[0m\u001b[0mndim\u001b[0m \u001b[1;33m>\u001b[0m \u001b[1;36m2\u001b[0m\u001b[1;33m)\u001b[0m\u001b[1;33m:\u001b[0m\u001b[1;33m\u001b[0m\u001b[1;33m\u001b[0m\u001b[0m\n\u001b[1;32m--> 151\u001b[1;33m             \u001b[1;32mraise\u001b[0m \u001b[0mValueError\u001b[0m\u001b[1;33m(\u001b[0m\u001b[1;34m\"matrix must be 2-dimensional\"\u001b[0m\u001b[1;33m)\u001b[0m\u001b[1;33m\u001b[0m\u001b[1;33m\u001b[0m\u001b[0m\n\u001b[0m\u001b[0;32m    152\u001b[0m         \u001b[1;32melif\u001b[0m \u001b[0mndim\u001b[0m \u001b[1;33m==\u001b[0m \u001b[1;36m0\u001b[0m\u001b[1;33m:\u001b[0m\u001b[1;33m\u001b[0m\u001b[1;33m\u001b[0m\u001b[0m\n\u001b[0;32m    153\u001b[0m             \u001b[0mshape\u001b[0m \u001b[1;33m=\u001b[0m \u001b[1;33m(\u001b[0m\u001b[1;36m1\u001b[0m\u001b[1;33m,\u001b[0m \u001b[1;36m1\u001b[0m\u001b[1;33m)\u001b[0m\u001b[1;33m\u001b[0m\u001b[1;33m\u001b[0m\u001b[0m\n",
      "\u001b[1;31mValueError\u001b[0m: matrix must be 2-dimensional"
     ]
    }
   ],
   "source": [
    "print(np.array([[[1]]]))#数组能是任意维不会报错\n",
    "print(np.mat([[[1]]]))#矩阵只能是2维会报错"
   ]
  },
  {
   "cell_type": "code",
   "execution_count": 61,
   "metadata": {},
   "outputs": [
    {
     "name": "stdout",
     "output_type": "stream",
     "text": [
      "[[1.1 2.2 3.3]\n",
      " [4.4 5.5 6.6]\n",
      " [7.7 8.8 9.9]]\n",
      "[[1.1 2.2 3.3]\n",
      " [4.4 5.5 6.6]\n",
      " [7.7 8.8 9.9]]\n",
      "[[1.1 2.2 3.3]\n",
      " [4.4 5.5 6.6]\n",
      " [7.7 8.8 9.9]]\n"
     ]
    }
   ],
   "source": [
    "#现在我们来看一下view与copy的差别在哪里\n",
    "print(a)\n",
    "e = a.view()\n",
    "c = a.copy()\n",
    "print(a)\n",
    "print(c)"
   ]
  },
  {
   "cell_type": "code",
   "execution_count": 64,
   "metadata": {},
   "outputs": [
    {
     "name": "stdout",
     "output_type": "stream",
     "text": [
      "[[0.  2.2 3.3]\n",
      " [4.4 5.5 6.6]\n",
      " [7.7 8.8 9.9]]\n",
      "[[1.1 2.2 3.3]\n",
      " [4.4 5.5 6.6]\n",
      " [7.7 8.8 9.9]]\n"
     ]
    }
   ],
   "source": [
    "c[0][0] = 0\n",
    "print(c)\n",
    "print(a)       #修改copy数组的值不会影响到原来的值"
   ]
  },
  {
   "cell_type": "code",
   "execution_count": 66,
   "metadata": {},
   "outputs": [
    {
     "name": "stdout",
     "output_type": "stream",
     "text": [
      "[[0.  2.2 3.3]\n",
      " [4.4 5.5 6.6]\n",
      " [7.7 8.8 9.9]]\n",
      "[[0.  2.2 3.3]\n",
      " [4.4 5.5 6.6]\n",
      " [7.7 8.8 9.9]]\n"
     ]
    }
   ],
   "source": [
    "e[0][0] = 0    #因为视图的数据与原数组的数据空间是一样的\n",
    "print(e)        #修改视图数据会改变原数组数据\n",
    "print(a)        \n",
    "print(a.reshape(1,9))"
   ]
  },
  {
   "cell_type": "code",
   "execution_count": 69,
   "metadata": {},
   "outputs": [
    {
     "name": "stdout",
     "output_type": "stream",
     "text": [
      "2253826302000\n",
      "2253826304880\n",
      "2253826304160\n"
     ]
    }
   ],
   "source": [
    "#原数组视图copy数组他们的结构存储地址都是不同的\n",
    "#原数组的数据和视图数据的引用是一致的\n",
    "#改变视图的shape不会改变原数组的shape\n",
    "print(id(a))\n",
    "print(id(c))\n",
    "print(id(e))"
   ]
  },
  {
   "cell_type": "code",
   "execution_count": 73,
   "metadata": {},
   "outputs": [
    {
     "name": "stdout",
     "output_type": "stream",
     "text": [
      "[[6. 6. 6.]\n",
      " [6. 6. 6.]\n",
      " [6. 6. 6.]]\n"
     ]
    }
   ],
   "source": [
    "#填充数据fill\n",
    "a.fill(6)\n",
    "print(a)"
   ]
  },
  {
   "cell_type": "code",
   "execution_count": 76,
   "metadata": {},
   "outputs": [
    {
     "name": "stdout",
     "output_type": "stream",
     "text": [
      "[[6 3 5 7]\n",
      " [3 3 0 6]\n",
      " [4 2 3 6]]\n"
     ]
    }
   ],
   "source": [
    "m = np.random.randint(10,size = (3,4))\n",
    "print(m)"
   ]
  },
  {
   "cell_type": "code",
   "execution_count": 81,
   "metadata": {},
   "outputs": [
    {
     "name": "stdout",
     "output_type": "stream",
     "text": [
      "[[6 3 5]\n",
      " [7 3 3]\n",
      " [0 6 4]\n",
      " [2 3 6]]\n",
      "[[6 3 5 7 3 3]\n",
      " [0 6 4 2 3 6]]\n",
      "None\n",
      "[[6 3 5 7 3 3]\n",
      " [0 6 4 2 3 6]]\n"
     ]
    }
   ],
   "source": [
    "print(m.reshape(4,3)) #有返回值不会改变m\n",
    "print(m)\n",
    "print(m.resize(2,6))  #resize没有返回值会改变m\n",
    "print(m)"
   ]
  },
  {
   "cell_type": "markdown",
   "metadata": {},
   "source": [
    "### transpose与swapaxes函数"
   ]
  },
  {
   "cell_type": "code",
   "execution_count": 84,
   "metadata": {},
   "outputs": [
    {
     "name": "stdout",
     "output_type": "stream",
     "text": [
      "[[9 7 8 7 4 9]\n",
      " [0 4 8 8 7 3]\n",
      " [8 4 6 6 3 7]\n",
      " [3 2 7 2 5 1]\n",
      " [3 9 1 2 3 2]]\n"
     ]
    }
   ],
   "source": [
    "n = np.random.randint(10,size=(5,6))\n",
    "print(n)"
   ]
  },
  {
   "cell_type": "code",
   "execution_count": 85,
   "metadata": {},
   "outputs": [
    {
     "name": "stdout",
     "output_type": "stream",
     "text": [
      "[[9 0 8 3 3]\n",
      " [7 4 4 2 9]\n",
      " [8 8 6 7 1]\n",
      " [7 8 6 2 2]\n",
      " [4 7 3 5 3]\n",
      " [9 3 7 1 2]]\n",
      "[[9 7 8 7 4 9]\n",
      " [0 4 8 8 7 3]\n",
      " [8 4 6 6 3 7]\n",
      " [3 2 7 2 5 1]\n",
      " [3 9 1 2 3 2]]\n"
     ]
    }
   ],
   "source": [
    "print(n.transpose())\n",
    "print(n)"
   ]
  },
  {
   "cell_type": "code",
   "execution_count": 87,
   "metadata": {},
   "outputs": [
    {
     "name": "stdout",
     "output_type": "stream",
     "text": [
      "[[9 0 8 3 3]\n",
      " [7 4 4 2 9]\n",
      " [8 8 6 7 1]\n",
      " [7 8 6 2 2]\n",
      " [4 7 3 5 3]\n",
      " [9 3 7 1 2]]\n",
      "[[9 7 8 7 4 9]\n",
      " [0 4 8 8 7 3]\n",
      " [8 4 6 6 3 7]\n",
      " [3 2 7 2 5 1]\n",
      " [3 9 1 2 3 2]]\n"
     ]
    }
   ],
   "source": [
    "print(n.transpose(1,0))\n",
    "print(n.transpose(0,1))"
   ]
  },
  {
   "cell_type": "markdown",
   "metadata": {},
   "source": [
    "```python\n",
    "|-transpose中参数说明:\n",
    "    如果是二维数组,第一个参数代表行维度,第二个参数代表是列维度默认情况下\n",
    "    第一个参数值是0,第二个参数值是1,把0和1交换就意味着交换两个维度把行变\n",
    "    成列,列变成行\n",
    "    如果是多维的那么原来数组参数的对应维度取值为0,1,2,3...依次增加,transpose中要想交换维度即进行坐标\n",
    "    轴变换交换将维度取值交换写成参数即可拿下面的三维数组举例\n",
    "```"
   ]
  },
  {
   "cell_type": "code",
   "execution_count": 89,
   "metadata": {},
   "outputs": [
    {
     "name": "stdout",
     "output_type": "stream",
     "text": [
      "[[[2 2 3]\n",
      "  [2 3 9]\n",
      "  [8 6 4]]\n",
      "\n",
      " [[4 3 2]\n",
      "  [4 3 8]\n",
      "  [7 1 0]]\n",
      "\n",
      " [[2 9 4]\n",
      "  [5 3 2]\n",
      "  [0 1 5]]]\n"
     ]
    }
   ],
   "source": [
    "D3 = np.random.randint(10,size=(3,3,3))\n",
    "print(D3)"
   ]
  },
  {
   "cell_type": "code",
   "execution_count": 92,
   "metadata": {},
   "outputs": [
    {
     "name": "stdout",
     "output_type": "stream",
     "text": [
      "[[[2 4 2]\n",
      "  [2 4 5]\n",
      "  [8 7 0]]\n",
      "\n",
      " [[2 3 9]\n",
      "  [3 3 3]\n",
      "  [6 1 1]]\n",
      "\n",
      " [[3 2 4]\n",
      "  [9 8 2]\n",
      "  [4 0 5]]]\n",
      "[[[2 4 2]\n",
      "  [2 3 9]\n",
      "  [3 2 4]]\n",
      "\n",
      " [[2 4 5]\n",
      "  [3 3 3]\n",
      "  [9 8 2]]\n",
      "\n",
      " [[8 7 0]\n",
      "  [6 1 1]\n",
      "  [4 0 5]]]\n"
     ]
    }
   ],
   "source": [
    "#下面两个变换等价因为transpose不加参数的时候\n",
    "#就是将默认参数进行了一次左移\n",
    "print(D3.transpose())\n",
    "print(D3.transpose(1,2,0))"
   ]
  },
  {
   "cell_type": "code",
   "execution_count": 95,
   "metadata": {},
   "outputs": [
    {
     "name": "stdout",
     "output_type": "stream",
     "text": [
      "7\n",
      "7\n",
      "27\n"
     ]
    }
   ],
   "source": [
    "D = D3.transpose(1,2,0)\n",
    "print(D3[1][2][0])\n",
    "print(D[2][0][1])\n",
    "#下面用一段简单的for循环遍历D3看是否与transpose(1,2,0)D对应元素位置相等\n",
    "L = 0\n",
    "for i in range(3):\n",
    "    for j in range(3):\n",
    "        for k in range(3):\n",
    "            if D3[i][j][k]==D[j][k][i]:\n",
    "                L = L + 1           #记录对应元素相等的数量结果应该为3x3x3=27\n",
    "            else:\n",
    "                break\n",
    "            pass\n",
    "        pass\n",
    "    pass\n",
    "print(L)                "
   ]
  },
  {
   "cell_type": "markdown",
   "metadata": {},
   "source": [
    "```python\n",
    "|-由上面的代码示例可以很清楚的了解transpose中参数的含义:\n",
    "    比如三维的transpose(2,1,0),因为原来数组的参数值是0,1,2\n",
    "    现在变成了2,1,0这就相当于是说原来数组中坐标为[i][j][k]的元素\n",
    "    在变换后的数组中坐标为[k][j][i]就这么个意思\n",
    "    其实反映在空间直角坐标系中x,y,z轴就是三个axis,transpose也就相当于是\n",
    "    进行坐标轴变换\n",
    "```"
   ]
  },
  {
   "cell_type": "code",
   "execution_count": 99,
   "metadata": {},
   "outputs": [
    {
     "name": "stdout",
     "output_type": "stream",
     "text": [
      "[[[0 8 1 9]\n",
      "  [4 9 1 0]\n",
      "  [9 3 2 4]]\n",
      "\n",
      " [[1 3 1 3]\n",
      "  [9 4 3 3]\n",
      "  [1 0 6 8]]]\n"
     ]
    }
   ],
   "source": [
    "# ndarray.swapaxes(axis1,axis2)交换两维度参数顺序任意\n",
    "k = np.random.randint(10,size=(2,3,4))\n",
    "print(k)"
   ]
  },
  {
   "cell_type": "code",
   "execution_count": 100,
   "metadata": {},
   "outputs": [
    {
     "name": "stdout",
     "output_type": "stream",
     "text": [
      "[[[0 4 9]\n",
      "  [8 9 3]\n",
      "  [1 1 2]\n",
      "  [9 0 4]]\n",
      "\n",
      " [[1 9 1]\n",
      "  [3 4 0]\n",
      "  [1 3 6]\n",
      "  [3 3 8]]]\n",
      "[[[0 4 9]\n",
      "  [8 9 3]\n",
      "  [1 1 2]\n",
      "  [9 0 4]]\n",
      "\n",
      " [[1 9 1]\n",
      "  [3 4 0]\n",
      "  [1 3 6]\n",
      "  [3 3 8]]]\n"
     ]
    }
   ],
   "source": [
    "print(k.transpose(0,2,1))\n",
    "print(k.swapaxes(1,2))"
   ]
  },
  {
   "cell_type": "code",
   "execution_count": 101,
   "metadata": {},
   "outputs": [
    {
     "name": "stdout",
     "output_type": "stream",
     "text": [
      "[[[0 4 9]\n",
      "  [8 9 3]\n",
      "  [1 1 2]\n",
      "  [9 0 4]]\n",
      "\n",
      " [[1 9 1]\n",
      "  [3 4 0]\n",
      "  [1 3 6]\n",
      "  [3 3 8]]]\n"
     ]
    }
   ],
   "source": [
    "print(k.swapaxes(2,1))"
   ]
  },
  {
   "cell_type": "code",
   "execution_count": 102,
   "metadata": {},
   "outputs": [
    {
     "name": "stdout",
     "output_type": "stream",
     "text": [
      "[[[0 8 1 9]\n",
      "  [1 3 1 3]]\n",
      "\n",
      " [[4 9 1 0]\n",
      "  [9 4 3 3]]\n",
      "\n",
      " [[9 3 2 4]\n",
      "  [1 0 6 8]]]\n",
      "[[[0 8 1 9]\n",
      "  [1 3 1 3]]\n",
      "\n",
      " [[4 9 1 0]\n",
      "  [9 4 3 3]]\n",
      "\n",
      " [[9 3 2 4]\n",
      "  [1 0 6 8]]]\n",
      "[[[0 8 1 9]\n",
      "  [1 3 1 3]]\n",
      "\n",
      " [[4 9 1 0]\n",
      "  [9 4 3 3]]\n",
      "\n",
      " [[9 3 2 4]\n",
      "  [1 0 6 8]]]\n"
     ]
    }
   ],
   "source": [
    "#一下三式是想等的\n",
    "print(k.swapaxes(0,1))\n",
    "print(k.swapaxes(1,0))\n",
    "print(k.transpose(1,0,2))"
   ]
  },
  {
   "cell_type": "markdown",
   "metadata": {},
   "source": [
    "### flatten,ravel,squezze函数的使用"
   ]
  },
  {
   "cell_type": "code",
   "execution_count": 104,
   "metadata": {},
   "outputs": [
    {
     "name": "stdout",
     "output_type": "stream",
     "text": [
      "[[[8]\n",
      "  [3]\n",
      "  [6]\n",
      "  [3]]\n",
      "\n",
      " [[2]\n",
      "  [5]\n",
      "  [1]\n",
      "  [4]]\n",
      "\n",
      " [[2]\n",
      "  [7]\n",
      "  [0]\n",
      "  [4]]]\n"
     ]
    }
   ],
   "source": [
    "P = np.random.randint(10,size=(3,4,1))\n",
    "print(P)"
   ]
  },
  {
   "cell_type": "code",
   "execution_count": 109,
   "metadata": {},
   "outputs": [
    {
     "name": "stdout",
     "output_type": "stream",
     "text": [
      "[8 3 6 3 2 5 1 4 2 7 0 4]\n",
      "[8 3 6 3 2 5 1 4 2 7 0 4]\n",
      "[[[8]\n",
      "  [3]\n",
      "  [6]\n",
      "  [3]]\n",
      "\n",
      " [[2]\n",
      "  [5]\n",
      "  [1]\n",
      "  [4]]\n",
      "\n",
      " [[2]\n",
      "  [7]\n",
      "  [0]\n",
      "  [4]]]\n"
     ]
    }
   ],
   "source": [
    "#flatten与ravel的作用一样的都是转化成一维\n",
    "#注意flat函数是变成一维迭代器\n",
    "print(P.flatten())\n",
    "print(P.ravel())\n",
    "print(P)"
   ]
  },
  {
   "cell_type": "code",
   "execution_count": 111,
   "metadata": {},
   "outputs": [
    {
     "name": "stdout",
     "output_type": "stream",
     "text": [
      "[[8 3 6 3]\n",
      " [2 5 1 4]\n",
      " [2 7 0 4]]\n"
     ]
    }
   ],
   "source": [
    "print(P.squeeze()) #删除长度为一的维度"
   ]
  },
  {
   "cell_type": "code",
   "execution_count": 112,
   "metadata": {},
   "outputs": [
    {
     "name": "stdout",
     "output_type": "stream",
     "text": [
      "(3, 4, 1)\n"
     ]
    }
   ],
   "source": [
    "print(P.shape)"
   ]
  },
  {
   "cell_type": "code",
   "execution_count": 113,
   "metadata": {},
   "outputs": [
    {
     "name": "stdout",
     "output_type": "stream",
     "text": [
      "[[8 3 6 3]\n",
      " [2 5 1 4]\n",
      " [2 7 0 4]]\n"
     ]
    }
   ],
   "source": [
    "#如果有多个维度为1则需要指明否则全部删除\n",
    "print(P.squeeze(axis=2))"
   ]
  },
  {
   "cell_type": "code",
   "execution_count": 115,
   "metadata": {},
   "outputs": [
    {
     "name": "stdout",
     "output_type": "stream",
     "text": [
      "[[[7]]\n",
      "\n",
      " [[7]]\n",
      "\n",
      " [[7]]]\n",
      "[[7]\n",
      " [7]\n",
      " [7]]\n",
      "[7 7 7]\n"
     ]
    }
   ],
   "source": [
    "j = np.random.randint(10,size=(3,1,1))\n",
    "print(j)\n",
    "print(j.squeeze(axis=2))\n",
    "print(j.squeeze())"
   ]
  },
  {
   "cell_type": "code",
   "execution_count": null,
   "metadata": {},
   "outputs": [],
   "source": []
  }
 ],
 "metadata": {
  "kernelspec": {
   "display_name": "Python 3",
   "language": "python",
   "name": "python3"
  },
  "language_info": {
   "codemirror_mode": {
    "name": "ipython",
    "version": 3
   },
   "file_extension": ".py",
   "mimetype": "text/x-python",
   "name": "python",
   "nbconvert_exporter": "python",
   "pygments_lexer": "ipython3",
   "version": "3.7.4"
  }
 },
 "nbformat": 4,
 "nbformat_minor": 4
}
