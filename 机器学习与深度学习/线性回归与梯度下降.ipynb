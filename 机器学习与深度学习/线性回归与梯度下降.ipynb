{
 "cells": [
  {
   "cell_type": "markdown",
   "metadata": {},
   "source": [
    "## 先创建一个数据样本集合\n",
    "$Y = 2X+E+3,(E为标准正态分布误差)$"
   ]
  },
  {
   "cell_type": "code",
   "execution_count": 26,
   "metadata": {},
   "outputs": [],
   "source": [
    "import numpy as np\n",
    "import pandas as pd\n",
    "from pandas import DataFrame,Series\n",
    "import torch\n",
    "e = np.random.randn(100)\n",
    "#print(data)\n",
    "x = np.random.uniform(1,10,size=(100,1)) #从均匀分布中100个取值"
   ]
  },
  {
   "cell_type": "markdown",
   "metadata": {},
   "source": [
    "### 数据清洗连接操作"
   ]
  },
  {
   "cell_type": "code",
   "execution_count": 27,
   "metadata": {},
   "outputs": [
    {
     "name": "stdout",
     "output_type": "stream",
     "text": [
      "           0\n",
      "0   7.959296\n",
      "1   2.914118\n",
      "2   6.531930\n",
      "3   6.033350\n",
      "4   3.329694\n",
      "..       ...\n",
      "95  6.689540\n",
      "96  9.719845\n",
      "97  1.911316\n",
      "98  6.540799\n",
      "99  2.833886\n",
      "\n",
      "[100 rows x 1 columns]\n",
      "           0\n",
      "0  -0.988615\n",
      "1  -0.298217\n",
      "2   1.846047\n",
      "3   1.982957\n",
      "4   0.644001\n",
      "..       ...\n",
      "95 -1.317616\n",
      "96  0.844359\n",
      "97  0.475709\n",
      "98 -0.182511\n",
      "99 -0.075437\n",
      "\n",
      "[100 rows x 1 columns]\n",
      "            1\n",
      "0   17.929977\n",
      "1    8.530018\n",
      "2   17.909907\n",
      "3   17.049656\n",
      "4   10.303389\n",
      "..        ...\n",
      "95  15.061463\n",
      "96  23.284048\n",
      "97   7.298340\n",
      "98  15.899087\n",
      "99   8.592336\n",
      "\n",
      "[100 rows x 1 columns]\n",
      "           0          1\n",
      "0   7.959296  17.929977\n",
      "1   2.914118   8.530018\n",
      "2   6.531930  17.909907\n",
      "3   6.033350  17.049656\n",
      "4   3.329694  10.303389\n",
      "..       ...        ...\n",
      "95  6.689540  15.061463\n",
      "96  9.719845  23.284048\n",
      "97  1.911316   7.298340\n",
      "98  6.540799  15.899087\n",
      "99  2.833886   8.592336\n",
      "\n",
      "[100 rows x 2 columns]\n"
     ]
    }
   ],
   "source": [
    "X = DataFrame(data=x) \n",
    "print(X)\n",
    "E = DataFrame(data=e)\n",
    "print(E)\n",
    "Y = 2*X+E+3\n",
    "#Y = Y.rename(columns={0:'1'})\n",
    "Y.columns  = ['1']\n",
    "print(Y)\n",
    "Dt = pd.concat([X,Y.reindex(X.index)],axis=1)#将样本数据\n",
    "print(Dt)\n",
    "Dt.to_csv('LinR.csv',index = False,header = False) #去掉头索引和列索引写入LinR.csv文件"
   ]
  },
  {
   "cell_type": "code",
   "execution_count": 28,
   "metadata": {},
   "outputs": [
    {
     "name": "stdout",
     "output_type": "stream",
     "text": [
      "[[ 7.95929583 17.92997689]\n",
      " [ 2.91411788  8.5300183 ]\n",
      " [ 6.53192986 17.90990674]\n",
      " [ 6.0333498  17.04965623]\n",
      " [ 3.32969394 10.30338909]\n",
      " [ 9.78091003 24.11104012]\n",
      " [ 5.50414492 15.01162983]\n",
      " [ 2.3905083   7.98267035]\n",
      " [ 9.10073718 20.63593365]\n",
      " [ 8.6771435  20.00840521]\n",
      " [ 8.59297259 20.47870044]\n",
      " [ 3.71421162 13.64842939]\n",
      " [ 9.53717825 20.65189706]\n",
      " [ 1.65102104  5.72905434]\n",
      " [ 2.25873778  6.97617708]\n",
      " [ 4.22231735 11.55259733]\n",
      " [ 1.53631731  4.94287203]\n",
      " [ 5.34000791 13.16707094]\n",
      " [ 6.17545718 15.06864934]\n",
      " [ 4.90415263 12.41321868]\n",
      " [ 7.75327441 18.6794576 ]\n",
      " [ 5.69725718 12.84726204]\n",
      " [ 3.56909863 10.5966961 ]\n",
      " [ 9.94681425 21.33072322]\n",
      " [ 3.59799413  9.56658453]\n",
      " [ 3.87835658 11.11208729]\n",
      " [ 5.03228019 13.68579256]\n",
      " [ 9.48569476 22.77879716]\n",
      " [ 4.66228634 12.75729249]\n",
      " [ 2.4908625   7.26331882]\n",
      " [ 4.81153515 12.35458447]\n",
      " [ 9.58406536 22.38109883]\n",
      " [ 4.28121897 10.74117052]\n",
      " [ 2.45652558  8.71965016]\n",
      " [ 1.9736664   6.4809288 ]\n",
      " [ 9.51051954 22.72786535]\n",
      " [ 6.75959417 17.81727331]\n",
      " [ 5.61578003 14.22442185]\n",
      " [ 3.85178666  9.75542375]\n",
      " [ 5.68632445 13.52993683]\n",
      " [ 5.4966711  15.11321743]\n",
      " [ 1.11686002  6.05160856]\n",
      " [ 8.82731607 19.98729226]\n",
      " [ 3.23499699  8.89761767]\n",
      " [ 3.22340228  9.82438038]\n",
      " [ 3.79773535  9.75677403]\n",
      " [ 7.91327594 19.74140776]\n",
      " [ 6.96384595 16.55981935]\n",
      " [ 8.04811251 18.00044451]\n",
      " [ 5.95047664 15.91780519]\n",
      " [ 6.86179131 14.57196115]\n",
      " [ 9.92403963 24.85022378]\n",
      " [ 2.28427921  5.8765021 ]\n",
      " [ 3.65702265  9.91875919]\n",
      " [ 2.94110273 10.2254981 ]\n",
      " [ 1.44233169  6.68000409]\n",
      " [ 8.11509328 19.30801919]\n",
      " [ 9.61113455 22.19692088]\n",
      " [ 5.31715886 10.11119983]\n",
      " [ 4.18841633 10.38081049]\n",
      " [ 3.38696086 10.89271924]\n",
      " [ 6.79149049 16.38415715]\n",
      " [ 9.43502226 22.16533282]\n",
      " [ 2.39967181  8.2302037 ]\n",
      " [ 7.36239661 17.6441651 ]\n",
      " [ 2.94883598  9.58722116]\n",
      " [ 8.07898524 18.88577106]\n",
      " [ 7.27030879 17.48551352]\n",
      " [ 3.82638905 10.42645614]\n",
      " [ 2.21195155  6.25717108]\n",
      " [ 2.62373052  7.75337578]\n",
      " [ 4.2888883  13.05445549]\n",
      " [ 4.79372014 13.47932057]\n",
      " [ 7.27504625 18.03400179]\n",
      " [ 7.6804564  18.91495491]\n",
      " [ 4.96708467 11.14166529]\n",
      " [ 1.3403768   3.22305645]\n",
      " [ 3.31317609 10.54117355]\n",
      " [ 8.83562974 21.6072844 ]\n",
      " [ 5.2485316  15.68878013]\n",
      " [ 3.09095248  8.00604601]\n",
      " [ 1.40126741  5.61514191]\n",
      " [ 5.97243366 16.6769609 ]\n",
      " [ 9.27273317 21.88579855]\n",
      " [ 1.10719167  7.34636051]\n",
      " [ 7.64405604 16.02157126]\n",
      " [ 1.46871259  7.17774005]\n",
      " [ 8.04512646 19.50343429]\n",
      " [ 6.44703966 14.47562085]\n",
      " [ 2.53241481  6.62603648]\n",
      " [ 7.88971862 19.72029653]\n",
      " [ 5.25505582 13.99824232]\n",
      " [ 6.42160172 17.67089747]\n",
      " [ 4.71902614 10.58448458]\n",
      " [ 3.69982573 11.40370471]\n",
      " [ 6.68953965 15.06146343]\n",
      " [ 9.7198446  23.28404806]\n",
      " [ 1.91131556  7.29834036]\n",
      " [ 6.54079876 15.89908666]\n",
      " [ 2.83388631  8.59233584]]\n"
     ]
    }
   ],
   "source": [
    "import matplotlib.pyplot as plt\n",
    "sample = np.genfromtxt('LinR.csv',delimiter=',')\n",
    "print(sample)\n",
    "x = sample[:,0]  #提取出自变量\n",
    "y = sample[:,1]  #提取出函数值"
   ]
  },
  {
   "cell_type": "code",
   "execution_count": 29,
   "metadata": {},
   "outputs": [
    {
     "data": {
      "image/png": "[encoded data removed]",
      "text/plain": [
       "<Figure size 432x288 with 1 Axes>"
      ]
     },
     "metadata": {
      "needs_background": "light"
     },
     "output_type": "display_data"
    }
   ],
   "source": [
    "# 做出y = x*2+e+3的散点图\n",
    "plt.scatter(x, y, marker = 'o',color = 'red', s = 40 )\n",
    "plt.show()"
   ]
  },
  {
   "cell_type": "code",
   "execution_count": 30,
   "metadata": {},
   "outputs": [],
   "source": [
    "#损失函数\n",
    "def loss_function(data,b,w):\n",
    "    Total_Error = 0\n",
    "    for i in range(len(data)):\n",
    "        x = data[i][0]\n",
    "        y = data[i][1]\n",
    "        Total_Error += ((w*x+b)-y)**2\n",
    "    return Total_Error/float(len(data))\n",
    "\n",
    "# 梯度下降步骤\n",
    "def gradient_step(b_current,w_current,data,learning_rate):\n",
    "    #初始化梯度\n",
    "    b_grad = 0\n",
    "    w_grad = 0\n",
    "    N = float(len(data))\n",
    "    for i in range(len(data)):\n",
    "        x = data[i][0]\n",
    "        y = data[i][1]\n",
    "        b_grad +=  (2/N)*(w_current*x+b_current-y)\n",
    "        w_grad +=  x*(2/N)*(w_current*x+b_current-y)\n",
    "    new_b  = b_current - learning_rate*b_grad\n",
    "    #print(new_b)\n",
    "    #w_current -= learning_rate*w_grad\n",
    "    new_w = b_current - learning_rate*w_grad\n",
    "    #print(new_w)\n",
    "    return [new_b,new_w]"
   ]
  },
  {
   "cell_type": "code",
   "execution_count": 30,
   "metadata": {},
   "outputs": [],
   "source": [
    "#梯度下降迭代\n",
    "def gradient_descent_iter(initial_b,initial_w,iteration_num,data,learning_rate):\n",
    "    b_current = initial_b\n",
    "    w_current = initial_w\n",
    "    for i in range(iteration_num):\n",
    "        b_current,w_current = gradient_step(b_current,w_current,np.array(data),learning_rate)\n",
    "    return [b_current,w_current]"
   ]
  },
  {
   "cell_type": "code",
   "execution_count": 30,
   "metadata": {},
   "outputs": [
    {
     "name": "stdout",
     "output_type": "stream",
     "text": [
      "Starting gradient decent at b = 0,w=0,loss_value = 217.6852494453724\n",
      "Running...\n",
      "After 20000 iterations b = 2.1616063195346547,w = 2.1614204809921613,loss_value = 1.4195063550286242\n"
     ]
    }
   ],
   "source": [
    "#运行函数\n",
    "def run_fun():\n",
    "    initial_b = 0\n",
    "    initial_w = 0\n",
    "    iteration_num = 20000\n",
    "    learning_rate = 0.0001\n",
    "    data = np.genfromtxt('LinR.csv',delimiter=',')\n",
    "    print('Starting gradient decent at b = {0},w={1},loss_value = {2}'.format(initial_b,initial_w,loss_function(data,initial_b,initial_w)))\n",
    "    print('Running...')\n",
    "    [b,w] = gradient_descent_iter(initial_b,initial_w,iteration_num,data,learning_rate)\n",
    "    print('After {0} iterations b = {1},w = {2},loss_value = {3}'.format(iteration_num,b,w,loss_function(data,b,w)))\n",
    "    \n",
    "#if __name__ == '__main__'():\n",
    "run_fun()\n",
    "\n",
    "    "
   ]
  },
  {
   "cell_type": "markdown",
   "metadata": {},
   "source": [
    ">可以看到迭代出的b值与w值与预先设定的2和3很接近损失函数值也很小了"
   ]
  },
  {
   "cell_type": "code",
   "execution_count": 33,
   "metadata": {},
   "outputs": [
    {
     "name": "stdout",
     "output_type": "stream",
     "text": [
      "[[ 7.95929583 17.92997689]\n",
      " [ 2.91411788  8.5300183 ]\n",
      " [ 6.53192986 17.90990674]\n",
      " [ 6.0333498  17.04965623]\n",
      " [ 3.32969394 10.30338909]\n",
      " [ 9.78091003 24.11104012]\n",
      " [ 5.50414492 15.01162983]\n",
      " [ 2.3905083   7.98267035]\n",
      " [ 9.10073718 20.63593365]\n",
      " [ 8.6771435  20.00840521]\n",
      " [ 8.59297259 20.47870044]\n",
      " [ 3.71421162 13.64842939]\n",
      " [ 9.53717825 20.65189706]\n",
      " [ 1.65102104  5.72905434]\n",
      " [ 2.25873778  6.97617708]\n",
      " [ 4.22231735 11.55259733]\n",
      " [ 1.53631731  4.94287203]\n",
      " [ 5.34000791 13.16707094]\n",
      " [ 6.17545718 15.06864934]\n",
      " [ 4.90415263 12.41321868]\n",
      " [ 7.75327441 18.6794576 ]\n",
      " [ 5.69725718 12.84726204]\n",
      " [ 3.56909863 10.5966961 ]\n",
      " [ 9.94681425 21.33072322]\n",
      " [ 3.59799413  9.56658453]\n",
      " [ 3.87835658 11.11208729]\n",
      " [ 5.03228019 13.68579256]\n",
      " [ 9.48569476 22.77879716]\n",
      " [ 4.66228634 12.75729249]\n",
      " [ 2.4908625   7.26331882]\n",
      " [ 4.81153515 12.35458447]\n",
      " [ 9.58406536 22.38109883]\n",
      " [ 4.28121897 10.74117052]\n",
      " [ 2.45652558  8.71965016]\n",
      " [ 1.9736664   6.4809288 ]\n",
      " [ 9.51051954 22.72786535]\n",
      " [ 6.75959417 17.81727331]\n",
      " [ 5.61578003 14.22442185]\n",
      " [ 3.85178666  9.75542375]\n",
      " [ 5.68632445 13.52993683]\n",
      " [ 5.4966711  15.11321743]\n",
      " [ 1.11686002  6.05160856]\n",
      " [ 8.82731607 19.98729226]\n",
      " [ 3.23499699  8.89761767]\n",
      " [ 3.22340228  9.82438038]\n",
      " [ 3.79773535  9.75677403]\n",
      " [ 7.91327594 19.74140776]\n",
      " [ 6.96384595 16.55981935]\n",
      " [ 8.04811251 18.00044451]\n",
      " [ 5.95047664 15.91780519]\n",
      " [ 6.86179131 14.57196115]\n",
      " [ 9.92403963 24.85022378]\n",
      " [ 2.28427921  5.8765021 ]\n",
      " [ 3.65702265  9.91875919]\n",
      " [ 2.94110273 10.2254981 ]\n",
      " [ 1.44233169  6.68000409]\n",
      " [ 8.11509328 19.30801919]\n",
      " [ 9.61113455 22.19692088]\n",
      " [ 5.31715886 10.11119983]\n",
      " [ 4.18841633 10.38081049]\n",
      " [ 3.38696086 10.89271924]\n",
      " [ 6.79149049 16.38415715]\n",
      " [ 9.43502226 22.16533282]\n",
      " [ 2.39967181  8.2302037 ]\n",
      " [ 7.36239661 17.6441651 ]\n",
      " [ 2.94883598  9.58722116]\n",
      " [ 8.07898524 18.88577106]\n",
      " [ 7.27030879 17.48551352]\n",
      " [ 3.82638905 10.42645614]\n",
      " [ 2.21195155  6.25717108]\n",
      " [ 2.62373052  7.75337578]\n",
      " [ 4.2888883  13.05445549]\n",
      " [ 4.79372014 13.47932057]\n",
      " [ 7.27504625 18.03400179]\n",
      " [ 7.6804564  18.91495491]\n",
      " [ 4.96708467 11.14166529]\n",
      " [ 1.3403768   3.22305645]\n",
      " [ 3.31317609 10.54117355]\n",
      " [ 8.83562974 21.6072844 ]\n",
      " [ 5.2485316  15.68878013]\n",
      " [ 3.09095248  8.00604601]\n",
      " [ 1.40126741  5.61514191]\n",
      " [ 5.97243366 16.6769609 ]\n",
      " [ 9.27273317 21.88579855]\n",
      " [ 1.10719167  7.34636051]\n",
      " [ 7.64405604 16.02157126]\n",
      " [ 1.46871259  7.17774005]\n",
      " [ 8.04512646 19.50343429]\n",
      " [ 6.44703966 14.47562085]\n",
      " [ 2.53241481  6.62603648]\n",
      " [ 7.88971862 19.72029653]\n",
      " [ 5.25505582 13.99824232]\n",
      " [ 6.42160172 17.67089747]\n",
      " [ 4.71902614 10.58448458]\n",
      " [ 3.69982573 11.40370471]\n",
      " [ 6.68953965 15.06146343]\n",
      " [ 9.7198446  23.28404806]\n",
      " [ 1.91131556  7.29834036]\n",
      " [ 6.54079876 15.89908666]\n",
      " [ 2.83388631  8.59233584]]\n"
     ]
    }
   ],
   "source": [
    "import matplotlib.pyplot as plt\n",
    "sample = np.genfromtxt('LinR.csv',delimiter=',')\n",
    "print(sample)\n",
    "x_1 = sample[:,0]\n",
    "y_1 = sample[:,1]"
   ]
  },
  {
   "cell_type": "code",
   "execution_count": 34,
   "metadata": {},
   "outputs": [
    {
     "data": {
      "image/png": "[encoded data removed]",
      "text/plain": [
       "<Figure size 432x288 with 1 Axes>"
      ]
     },
     "metadata": {
      "needs_background": "light"
     },
     "output_type": "display_data"
    }
   ],
   "source": [
    "#将拟合曲线与样本做比较\n",
    "import matplotlib.pyplot as plt\n",
    "import numpy as np\n",
    "plt.scatter(x_1, y_1, marker = 'o',color = 'red', s = 40,label = 'sampelSC' )\n",
    "#plt.show()\n",
    "x_2 = np.arange(0,10)\n",
    "w = 2.1614204809921613\n",
    "b = u2.1616063195346547\n",
    "y_2 = w*x+b\n",
    "plt.plot(x_2,y_2,label='Fitting Curve')\n",
    "plt.show()"
   ]
  },
  {
   "cell_type": "markdown",
   "metadata": {},
   "source": [
    ">可以看到曲线拟合的效果还是很不错的"
   ]
  },
  {
   "cell_type": "code",
   "execution_count": null,
   "metadata": {},
   "outputs": [],
   "source": []
  }
 ],
 "metadata": {
  "kernelspec": {
   "display_name": "Python 3",
   "language": "python",
   "name": "python3"
  },
  "language_info": {
   "codemirror_mode": {
    "name": "ipython",
    "version": 3
   },
   "file_extension": ".py",
   "mimetype": "text/x-python",
   "name": "python",
   "nbconvert_exporter": "python",
   "pygments_lexer": "ipython3",
   "version": "3.7.7"
  }
 },
 "nbformat": 4,
 "nbformat_minor": 4
}
