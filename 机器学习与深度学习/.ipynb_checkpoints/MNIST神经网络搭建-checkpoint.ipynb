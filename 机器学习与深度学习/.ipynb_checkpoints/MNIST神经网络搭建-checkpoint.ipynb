{
 "cells": [
  {
   "cell_type": "code",
   "execution_count": null,
   "metadata": {},
   "outputs": [],
   "source": [
    "import torch\n",
    "import torch.nn as nn\n",
    "import torch.nn.functional as F\n",
    "import torch.optim as optim\n",
    "from torchvision import datasets,transforms"
   ]
  },
  {
   "cell_type": "code",
   "execution_count": null,
   "metadata": {},
   "outputs": [],
   "source": [
    "# 加载数据集\n",
    "batch_size = 200\n",
    "\n",
    "learning_rate = 0.01\n",
    "\n",
    "epochs = 10\n",
    "\n",
    "train_loader = torch.utils.data.DataLoader(\n",
    "datasets.MNIST('Mnist_data',train = True,download = True,\n",
    "                transform = transforms.Compose([\n",
    "                    #  将数据变换为张量形式\n",
    "                    transforms.ToTensor(),\n",
    "                    # 根据官方提供的均值和标准差,标准化数据方便减少梯度下降次数\n",
    "                    transforms.Normalize((0.1307,), (0.3081,))                  \n",
    "                ])),batch_size = batch_size,shuffle=True)\n",
    "test_loader = torch.utils.data.DataLoader(\n",
    "datasets.MNIST('Mnist_data',train = False,download = True,\n",
    "              transform = transforms.Compose([\n",
    "                  transforms.ToTensor(),\n",
    "                  transforms.Normalize((0.1307,), (0.3081,))\n",
    "              ])),batch_size = batch_size,shuffle = True)"
   ]
  },
  {
   "cell_type": "code",
   "execution_count": null,
   "metadata": {},
   "outputs": [],
   "source": []
  }
 ],
 "metadata": {
  "kernelspec": {
   "display_name": "Python 3",
   "language": "python",
   "name": "python3"
  },
  "language_info": {
   "codemirror_mode": {
    "name": "ipython",
    "version": 3
   },
   "file_extension": ".py",
   "mimetype": "text/x-python",
   "name": "python",
   "nbconvert_exporter": "python",
   "pygments_lexer": "ipython3",
   "version": "3.7.7"
  }
 },
 "nbformat": 4,
 "nbformat_minor": 4
}
