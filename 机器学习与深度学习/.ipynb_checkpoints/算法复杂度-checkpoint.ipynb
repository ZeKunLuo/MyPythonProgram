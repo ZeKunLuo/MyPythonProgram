{
 "cells": [
  {
   "cell_type": "markdown",
   "metadata": {},
   "source": [
    "# 神经网络算法复杂度分析"
   ]
  },
  {
   "cell_type": "code",
   "execution_count": 42,
   "metadata": {},
   "outputs": [
    {
     "data": {
      "text/plain": [
       "True"
      ]
     },
     "execution_count": 42,
     "metadata": {},
     "output_type": "execute_result"
    }
   ],
   "source": [
    "import torch\n",
    "import numpy as np\n",
    "torch.cuda.is_available()"
   ]
  },
  {
   "cell_type": "markdown",
   "metadata": {},
   "source": [
    "$CPU 2.3G = 2.3 * 10^9$ \n",
    "\n",
    "$10000*10000*(10000+10000)  = 2*10^{12}$\n",
    "\n",
    "$\\dfrac{10^{12}}{10^9}$"
   ]
  },
  {
   "cell_type": "code",
   "execution_count": 30,
   "metadata": {},
   "outputs": [
    {
     "name": "stdout",
     "output_type": "stream",
     "text": [
      "434.78260869565224\n"
     ]
    }
   ],
   "source": [
    "print((1/2.3)*1000)"
   ]
  },
  {
   "cell_type": "code",
   "execution_count": 21,
   "metadata": {},
   "outputs": [
    {
     "name": "stdout",
     "output_type": "stream",
     "text": [
      "tensor([[1, 1, 1],\n",
      "        [1, 1, 1],\n",
      "        [2, 2, 2]])\n"
     ]
    }
   ],
   "source": [
    "# 矩阵乘法\n",
    "a = torch.tensor([[1,0,0],[0,1,0],[0,1,1]])\n",
    "b = torch.tensor([[1,1,1],[1,1,1],[1,1,1]])\n",
    "print(a@b)"
   ]
  },
  {
   "cell_type": "code",
   "execution_count": 39,
   "metadata": {},
   "outputs": [
    {
     "name": "stdout",
     "output_type": "stream",
     "text": [
      "tensor([[  -4.6929,   17.1376, -180.6937,  ...,   23.5186, -123.2722,\n",
      "          112.4205],\n",
      "        [ 232.7838,   22.3524,  135.7007,  ...,   64.2867,  -54.8527,\n",
      "           87.1531],\n",
      "        [  40.1077,  104.2161,  293.0661,  ...,  -50.2194,   35.5178,\n",
      "          -16.9622],\n",
      "        ...,\n",
      "        [  50.0498,   98.7130,   72.8371,  ...,  -58.8961,  -11.0164,\n",
      "          -88.2462],\n",
      "        [-100.9067,  114.7154, -196.3251,  ..., -107.0457,  184.0032,\n",
      "         -116.6959],\n",
      "        [ 129.7374,  -68.7630,   -0.4250,  ...,  -97.9453,   22.2100,\n",
      "          121.9488]])\n",
      "Wall time: 38.2 s\n"
     ]
    }
   ],
   "source": [
    "%%time\n",
    "a = torch.randn(10000,10000)\n",
    "b = torch.randn(10000,10000)\n",
    "print(a@b)"
   ]
  },
  {
   "cell_type": "code",
   "execution_count": 43,
   "metadata": {},
   "outputs": [
    {
     "name": "stdout",
     "output_type": "stream",
     "text": [
      "Wall time: 0 ns\n"
     ]
    }
   ],
   "source": [
    "%%time\n",
    "a = a.cuda()\n",
    "b = b.cuda()"
   ]
  },
  {
   "cell_type": "code",
   "execution_count": 44,
   "metadata": {},
   "outputs": [
    {
     "ename": "RuntimeError",
     "evalue": "CUDA error: unspecified launch failure",
     "output_type": "error",
     "traceback": [
      "\u001b[1;31m---------------------------------------------------------------------------\u001b[0m",
      "\u001b[1;31mRuntimeError\u001b[0m                              Traceback (most recent call last)",
      "\u001b[1;32m<timed eval>\u001b[0m in \u001b[0;36m<module>\u001b[1;34m\u001b[0m\n",
      "\u001b[1;31mRuntimeError\u001b[0m: CUDA error: unspecified launch failure"
     ]
    }
   ],
   "source": [
    "%%time\n",
    "print(a@b)"
   ]
  },
  {
   "cell_type": "code",
   "execution_count": 38,
   "metadata": {},
   "outputs": [
    {
     "name": "stdout",
     "output_type": "stream",
     "text": [
      "255.10204081632654\n"
     ]
    }
   ],
   "source": [
    "print(25*1000/98)"
   ]
  },
  {
   "cell_type": "code",
   "execution_count": 36,
   "metadata": {},
   "outputs": [
    {
     "name": "stdout",
     "output_type": "stream",
     "text": [
      "tensor([[-1.5780e-02,  2.5570e+00,  1.7158e-02,  ..., -8.9247e-02,\n",
      "         -8.3980e-01, -5.8817e-01],\n",
      "        [-4.4613e-01, -1.6825e-02,  2.8124e-01,  ...,  4.2011e-01,\n",
      "         -1.3389e-01,  4.9674e-01],\n",
      "        [-3.3994e-01, -2.4256e-01, -7.3876e-01,  ...,  2.0710e-01,\n",
      "          2.8385e-01,  3.5703e-02],\n",
      "        ...,\n",
      "        [-1.3816e-01,  7.5465e-04,  9.0772e-01,  ..., -2.0804e+00,\n",
      "          2.1895e-01, -1.3951e-01],\n",
      "        [-2.8577e-01, -2.4944e-02, -5.8087e-01,  ...,  2.1100e-01,\n",
      "         -3.2987e-01,  5.5365e-03],\n",
      "        [ 7.5175e-01,  5.5803e-01, -2.6481e-01,  ..., -8.1823e-01,\n",
      "          1.1771e+00, -2.5801e-02]])\n",
      "Wall time: 3.22 s\n"
     ]
    }
   ],
   "source": [
    "%%time\n",
    "o = torch.randn(10000,10000)\n",
    "p = torch.randn(10000,10000)\n",
    "print(o.mul(p))"
   ]
  },
  {
   "cell_type": "markdown",
   "metadata": {},
   "source": [
    "可以看到我2.6GGPU每秒指令执行次数为$2.6*10^9$\n",
    "\n",
    "而10000x10000的矩阵的哈达玛积的运算次数为$10^8$\n",
    "\n",
    "故计算出的时间为 $\\dfrac{1}{10}$ s\n",
    "\n",
    "但是由于CPU的每次乘法或加法的指令数的原因假设指令数为10\n",
    "\n",
    "则最终的计算是以秒为单位"
   ]
  },
  {
   "cell_type": "code",
   "execution_count": 33,
   "metadata": {},
   "outputs": [
    {
     "name": "stdout",
     "output_type": "stream",
     "text": [
      "Wall time: 0 ns\n"
     ]
    }
   ],
   "source": [
    "%%time\n",
    "o = o.cuda()\n",
    "p = p.cuda()"
   ]
  },
  {
   "cell_type": "code",
   "execution_count": 35,
   "metadata": {},
   "outputs": [
    {
     "name": "stdout",
     "output_type": "stream",
     "text": [
      "tensor([[-1.1334e+00,  5.9701e-01, -5.9398e-01,  ...,  6.6321e-01,\n",
      "          8.8332e-02,  7.9391e-01],\n",
      "        [ 2.5433e-02,  4.7200e-02,  3.1305e-01,  ...,  5.6352e-01,\n",
      "         -1.9659e-01, -9.4218e-01],\n",
      "        [ 6.1752e-01,  1.5282e-02, -7.5273e-01,  ...,  4.5050e-02,\n",
      "         -1.7199e-01, -6.3720e-02],\n",
      "        ...,\n",
      "        [ 2.1713e-01,  7.0454e-01,  3.8391e-04,  ...,  8.4140e-02,\n",
      "          4.4529e-02,  1.0884e+00],\n",
      "        [-6.1575e-01, -2.6023e-01, -3.4691e-01,  ..., -6.1621e-02,\n",
      "          1.9885e+00,  1.6404e-02],\n",
      "        [-5.7688e-01, -4.0286e-02, -7.3440e-01,  ..., -4.7482e-01,\n",
      "          2.3303e-01,  9.2274e-02]], device='cuda:0')\n",
      "Wall time: 54.9 ms\n"
     ]
    }
   ],
   "source": [
    "%%time\n",
    "print(o.mul(p))"
   ]
  },
  {
   "cell_type": "markdown",
   "metadata": {},
   "source": [
    "GPU运算速度大概是CPU运算速度的60倍左右"
   ]
  },
  {
   "cell_type": "code",
   "execution_count": null,
   "metadata": {},
   "outputs": [],
   "source": []
  }
 ],
 "metadata": {
  "kernelspec": {
   "display_name": "Python 3",
   "language": "python",
   "name": "python3"
  },
  "language_info": {
   "codemirror_mode": {
    "name": "ipython",
    "version": 3
   },
   "file_extension": ".py",
   "mimetype": "text/x-python",
   "name": "python",
   "nbconvert_exporter": "python",
   "pygments_lexer": "ipython3",
   "version": "3.7.7"
  }
 },
 "nbformat": 4,
 "nbformat_minor": 4
}
