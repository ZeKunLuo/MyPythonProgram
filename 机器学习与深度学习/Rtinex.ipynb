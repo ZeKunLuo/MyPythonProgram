{
 "cells": [
  {
   "cell_type": "code",
   "execution_count": 1,
   "metadata": {},
   "outputs": [
    {
     "ename": "error",
     "evalue": "OpenCV(4.2.0) ..\\modules\\core\\src\\mathfuncs.cpp:702: error: (-215:Assertion failed) depth == CV_32F || depth == CV_64F in function 'cv::log'\n",
     "output_type": "error",
     "traceback": [
      "\u001b[1;31m---------------------------------------------------------------------------\u001b[0m",
      "\u001b[1;31merror\u001b[0m                                     Traceback (most recent call last)",
      "\u001b[1;32m<ipython-input-1-daf1b86ed7ad>\u001b[0m in \u001b[0;36m<module>\u001b[1;34m\u001b[0m\n\u001b[0;32m     40\u001b[0m     \u001b[0mcv2\u001b[0m\u001b[1;33m.\u001b[0m\u001b[0mimshow\u001b[0m\u001b[1;33m(\u001b[0m\u001b[1;34m'imae'\u001b[0m\u001b[1;33m,\u001b[0m\u001b[0msrc_img\u001b[0m\u001b[1;33m)\u001b[0m\u001b[1;33m\u001b[0m\u001b[1;33m\u001b[0m\u001b[0m\n\u001b[0;32m     41\u001b[0m     \u001b[0mb_gray\u001b[0m\u001b[1;33m,\u001b[0m\u001b[0mg_gray\u001b[0m\u001b[1;33m,\u001b[0m \u001b[0mr_gray\u001b[0m \u001b[1;33m=\u001b[0m \u001b[0mcv2\u001b[0m\u001b[1;33m.\u001b[0m\u001b[0msplit\u001b[0m\u001b[1;33m(\u001b[0m\u001b[0msrc_img\u001b[0m\u001b[1;33m)\u001b[0m\u001b[1;33m\u001b[0m\u001b[1;33m\u001b[0m\u001b[0m\n\u001b[1;32m---> 42\u001b[1;33m     \u001b[0mb_gray\u001b[0m \u001b[1;33m=\u001b[0m \u001b[0mMSR\u001b[0m\u001b[1;33m(\u001b[0m\u001b[0mb_gray\u001b[0m\u001b[1;33m,\u001b[0m \u001b[0mscales\u001b[0m\u001b[1;33m)\u001b[0m\u001b[1;33m\u001b[0m\u001b[1;33m\u001b[0m\u001b[0m\n\u001b[0m\u001b[0;32m     43\u001b[0m     \u001b[0mg_gray\u001b[0m \u001b[1;33m=\u001b[0m \u001b[0mMSR\u001b[0m\u001b[1;33m(\u001b[0m\u001b[0mg_gray\u001b[0m\u001b[1;33m,\u001b[0m \u001b[0mscales\u001b[0m\u001b[1;33m)\u001b[0m\u001b[1;33m\u001b[0m\u001b[1;33m\u001b[0m\u001b[0m\n\u001b[0;32m     44\u001b[0m     \u001b[0mr_gray\u001b[0m \u001b[1;33m=\u001b[0m \u001b[0mMSR\u001b[0m\u001b[1;33m(\u001b[0m\u001b[0mr_gray\u001b[0m\u001b[1;33m,\u001b[0m \u001b[0mscales\u001b[0m\u001b[1;33m)\u001b[0m\u001b[1;33m\u001b[0m\u001b[1;33m\u001b[0m\u001b[0m\n",
      "\u001b[1;32m<ipython-input-1-daf1b86ed7ad>\u001b[0m in \u001b[0;36mMSR\u001b[1;34m(img, scales)\u001b[0m\n\u001b[0;32m     19\u001b[0m         \u001b[0mL_blur\u001b[0m \u001b[1;33m=\u001b[0m \u001b[0mcv2\u001b[0m\u001b[1;33m.\u001b[0m\u001b[0mGaussianBlur\u001b[0m\u001b[1;33m(\u001b[0m\u001b[0mimg\u001b[0m\u001b[1;33m,\u001b[0m \u001b[1;33m(\u001b[0m\u001b[0mscales\u001b[0m\u001b[1;33m[\u001b[0m\u001b[0mi\u001b[0m\u001b[1;33m]\u001b[0m\u001b[1;33m,\u001b[0m \u001b[0mscales\u001b[0m\u001b[1;33m[\u001b[0m\u001b[0mi\u001b[0m\u001b[1;33m]\u001b[0m\u001b[1;33m)\u001b[0m\u001b[1;33m,\u001b[0m \u001b[1;36m0\u001b[0m\u001b[1;33m)\u001b[0m\u001b[1;33m\u001b[0m\u001b[1;33m\u001b[0m\u001b[0m\n\u001b[0;32m     20\u001b[0m         \u001b[0mL_blur\u001b[0m \u001b[1;33m=\u001b[0m \u001b[0mreplaceZeroes\u001b[0m\u001b[1;33m(\u001b[0m\u001b[0mL_blur\u001b[0m\u001b[1;33m)\u001b[0m\u001b[1;33m\u001b[0m\u001b[1;33m\u001b[0m\u001b[0m\n\u001b[1;32m---> 21\u001b[1;33m         \u001b[0mdst_Img\u001b[0m \u001b[1;33m=\u001b[0m \u001b[0mcv2\u001b[0m\u001b[1;33m.\u001b[0m\u001b[0mlog\u001b[0m\u001b[1;33m(\u001b[0m\u001b[0mimg\u001b[0m\u001b[1;33m)\u001b[0m\u001b[1;33m\u001b[0m\u001b[1;33m\u001b[0m\u001b[0m\n\u001b[0m\u001b[0;32m     22\u001b[0m         \u001b[0mdst_Lblur\u001b[0m \u001b[1;33m=\u001b[0m \u001b[0mcv2\u001b[0m\u001b[1;33m.\u001b[0m\u001b[0mlog\u001b[0m\u001b[1;33m(\u001b[0m\u001b[0mL_blur\u001b[0m\u001b[1;33m)\u001b[0m\u001b[1;33m\u001b[0m\u001b[1;33m\u001b[0m\u001b[0m\n\u001b[0;32m     23\u001b[0m         \u001b[0mdst_Ixl\u001b[0m \u001b[1;33m=\u001b[0m \u001b[0mcv2\u001b[0m\u001b[1;33m.\u001b[0m\u001b[0mmultiply\u001b[0m\u001b[1;33m(\u001b[0m\u001b[0mdst_Img\u001b[0m\u001b[1;33m,\u001b[0m \u001b[0mdst_Lblur\u001b[0m\u001b[1;33m)\u001b[0m\u001b[1;33m\u001b[0m\u001b[1;33m\u001b[0m\u001b[0m\n",
      "\u001b[1;31merror\u001b[0m: OpenCV(4.2.0) ..\\modules\\core\\src\\mathfuncs.cpp:702: error: (-215:Assertion failed) depth == CV_32F || depth == CV_64F in function 'cv::log'\n"
     ]
    }
   ],
   "source": [
    "import cv2\n",
    "import numpy as np\n",
    "\n",
    "\n",
    "def replaceZeroes(data):\n",
    "    min_nonzero = min(data[np.nonzero(data)])\n",
    "    data[data == 0] = min_nonzero\n",
    "    return data\n",
    "\n",
    "\n",
    "def MSR(img, scales):\n",
    "    weight = 1 / 3.0\n",
    "    scales_size = len(scales)\n",
    "    h, w = img.shape[:2]\n",
    "    log_R = np.zeros((h, w), dtype=np.float32)\n",
    "\n",
    "    for i in range(scales_size):\n",
    "        img = replaceZeroes(img)\n",
    "        L_blur = cv2.GaussianBlur(img, (scales[i], scales[i]), 0)\n",
    "        L_blur = replaceZeroes(L_blur)\n",
    "        dst_Img = cv2.log(img/255)\n",
    "        dst_Lblur = cv2.log(L_blur/255)\n",
    "        dst_Ixl = cv2.multiply(dst_Img, dst_Lblur)\n",
    "        log_R += weight * cv2.subtract(dst_Img, dst_Ixl)\n",
    "        log_R = \n",
    "        cv2.imshow('lor',log_R)\n",
    "        data = np.random.rand(*log_R.shape)\n",
    "        ig =  log_R*data\n",
    "        cv2.imshow('ig',ig)\n",
    "\n",
    "    dst_R = cv2.normalize(log_R,None, 0, 255, cv2.NORM_MINMAX)\n",
    "    log_uint8 = cv2.convertScaleAbs(dst_R)\n",
    "    return log_uint8\n",
    "\n",
    "\n",
    "if __name__ == '__main__':\n",
    "    img = 'E:/Download/image/our485/high/5.png'\n",
    "    scales = [15,101,301]  # [3,5,9]  #看不出效果有什么差别\n",
    "    #cv2.imshow(img)\n",
    "    src_img = cv2.imread(img)\n",
    "    cv2.imshow('imae',src_img)\n",
    "    b_gray,g_gray, r_gray = cv2.split(src_img)\n",
    "    b_gray = MSR(b_gray, scales)\n",
    "    g_gray = MSR(g_gray, scales)\n",
    "    r_gray = MSR(r_gray, scales)\n",
    "    result = cv2.merge([b_gray, g_gray, r_gray])\n",
    "\n",
    "    cv2.imshow('img',src_img)\n",
    "    cv2.imshow('MSR_result',result)\n",
    "    cv2.waitKey(0)\n",
    "\n",
    "    cv2.destroyAllWindows()"
   ]
  },
  {
   "cell_type": "code",
   "execution_count": 6,
   "metadata": {},
   "outputs": [
    {
     "name": "stdout",
     "output_type": "stream",
     "text": [
      "[[-0.05717079 -1.27542703  1.40384814]\n",
      " [-2.45594299  0.18762228 -0.52658279]\n",
      " [ 0.24490671 -0.53954896 -0.71408392]]\n",
      "-2.455942989000967\n",
      "[[-0.05717079 -1.27542703  1.40384814]\n",
      " [-2.45594299  0.18762228 -0.52658279]\n",
      " [ 0.24490671 -0.53954896 -0.71408392]]\n",
      "[[-0.05717079 -1.27542703  1.40384814]\n",
      " [-2.45594299  0.18762228 -0.52658279]\n",
      " [ 0.24490671 -0.53954896 -0.71408392]]\n"
     ]
    }
   ],
   "source": [
    "import numpy as np\n",
    "def replaceZeroes(data):\n",
    "    min_nonzero = min(data[np.nonzero(data)])\n",
    "    print(min_nonzero)\n",
    "    data[data == 0] = min_nonzero\n",
    "    print(data)\n",
    "    return data\n",
    "data = np.random.randn(3,3)\n",
    "print(data)\n",
    "data = replaceZeroes(data)\n",
    "print(data)"
   ]
  },
  {
   "cell_type": "code",
   "execution_count": 11,
   "metadata": {},
   "outputs": [
    {
     "name": "stdout",
     "output_type": "stream",
     "text": [
      "[[0.16262678 0.12017644 0.49191095]\n",
      " [0.75646443 0.69754855 0.50906499]\n",
      " [0.45079457 0.62908116 0.82454888]]\n"
     ]
    }
   ],
   "source": [
    "datas = np.random.rand(*data.shape)\n",
    "print(datas)"
   ]
  },
  {
   "cell_type": "code",
   "execution_count": 9,
   "metadata": {},
   "outputs": [
    {
     "name": "stdout",
     "output_type": "stream",
     "text": [
      "(3, 3)\n"
     ]
    }
   ],
   "source": [
    "print(data.shape)"
   ]
  },
  {
   "cell_type": "code",
   "execution_count": null,
   "metadata": {},
   "outputs": [],
   "source": []
  }
 ],
 "metadata": {
  "kernelspec": {
   "display_name": "Python 3",
   "language": "python",
   "name": "python3"
  },
  "language_info": {
   "codemirror_mode": {
    "name": "ipython",
    "version": 3
   },
   "file_extension": ".py",
   "mimetype": "text/x-python",
   "name": "python",
   "nbconvert_exporter": "python",
   "pygments_lexer": "ipython3",
   "version": "3.7.7"
  }
 },
 "nbformat": 4,
 "nbformat_minor": 4
}
