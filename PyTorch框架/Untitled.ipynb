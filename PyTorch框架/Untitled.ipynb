{
 "cells": [
  {
   "cell_type": "code",
   "execution_count": null,
   "metadata": {},
   "outputs": [],
   "source": [
    "import urllib.request\n",
    "import pandas as pd\n",
    "\n",
    "# 1、网址url  --豆瓣网\n",
    "url = 'http://www.image-net.org/api/text/imagenet.synset.geturls?wnid=n00523513'\n",
    " \n",
    "# 2、直接请求  返回结果\n",
    "response = urllib.request.urlopen(url)\n",
    "print(response)\n",
    "# 3、获取状态码，如果是200表示获取成功\n",
    "print ('状态码：',response.getcode())\n",
    " \n",
    "# 4、读取内容\n",
    "data = response.read()\n",
    " \n",
    "# 5、设置编码\n",
    "data = data.decode('utf-8')\n",
    "print(type(data))\n",
    "#data.to_fwf('image')\n",
    "# 6、打印结果\n",
    "print (data)"
   ]
  },
  {
   "cell_type": "code",
   "execution_count": null,
   "metadata": {},
   "outputs": [],
   "source": []
  }
 ],
 "metadata": {
  "kernelspec": {
   "display_name": "Python 3",
   "language": "python",
   "name": "python3"
  },
  "language_info": {
   "codemirror_mode": {
    "name": "ipython",
    "version": 3
   },
   "file_extension": ".py",
   "mimetype": "text/x-python",
   "name": "python",
   "nbconvert_exporter": "python",
   "pygments_lexer": "ipython3",
   "version": "3.7.4"
  }
 },
 "nbformat": 4,
 "nbformat_minor": 4
}
