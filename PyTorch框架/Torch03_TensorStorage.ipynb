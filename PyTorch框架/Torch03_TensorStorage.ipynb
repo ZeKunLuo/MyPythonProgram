{
 "cells": [
  {
   "cell_type": "code",
   "execution_count": 1,
   "metadata": {},
   "outputs": [
    {
     "data": {
      "text/plain": [
       "True"
      ]
     },
     "execution_count": 1,
     "metadata": {},
     "output_type": "execute_result"
    }
   ],
   "source": [
    "import torch\n",
    "torch.cuda.is_available()"
   ]
  },
  {
   "cell_type": "markdown",
   "metadata": {},
   "source": [
    "torch.Tensor\n",
    "torch.Tensor是一种包含单一数据类型元素的多维矩阵。\n",
    "\n",
    "Torch定义了七种CPU张量类型和八种GPU张量类型：\n",
    "\n",
    "Data tyoe\tCPU tensor\tGPU tensor\n",
    "`32-bit floating point->>torch.FloatTensor->torch.cuda.FloatTensor\n",
    "64-bit floating point->>torch.DoubleTensor->torch.cuda.DoubleTensor\n",
    "16-bit floating point->>N/A\t->torch.cuda.HalfTensor\n",
    "8-bit integer (unsigned)->>torch.ByteTensor->torch.cuda.ByteTensor\n",
    "8-bit integer (signed)->>torch.CharTensor->torch.cuda.CharTensor\n",
    "16-bit integer (signed)->>torch.ShortTensor->torch.cuda.ShortTensor\n",
    "32-bit integer (signed)->>torch.IntTensor->torch.cuda.IntTensor\n",
    "64-bit integer (signed)->>torch.LongTensor->torch.cuda.LongTensor`\n",
    "\n",
    "`torch.Tensor`是默认的tensor类型(`torch.FlaotTensor`)的简称"
   ]
  },
  {
   "cell_type": "code",
   "execution_count": 3,
   "metadata": {},
   "outputs": [
    {
     "name": "stdout",
     "output_type": "stream",
     "text": [
      "tensor([[1., 2., 3.],\n",
      "        [4., 5., 6.]])\n",
      "torch.float32\n"
     ]
    }
   ],
   "source": [
    "a = torch.Tensor([[1,2,3],[4,5,6]])\n",
    "print(a)\n",
    "print(a.dtype)"
   ]
  },
  {
   "cell_type": "markdown",
   "metadata": {},
   "source": [
    "没一个张量tensor都有一个相应的`torch.Storage`保存数据,张量提供了一个横向的、多维的视图储存,并定义了数字操作.\n",
    ">注意： 改变张量的方法可以用一个下划线后缀来标示。比如，torch.FloatTensor.abs_()会在原地计算绝对值并返回修改的张量，而tensor.FloatTensor.abs()将会在新张量中计算结果。torh.ops能够实现的基本上都能够用tensor.ops()或tensor.ops_()实现这是张量的直接运算形式"
   ]
  },
  {
   "cell_type": "markdown",
   "metadata": {},
   "source": [
    "### torch.Storage\n",
    "`torch.Storage`是单个数据类型的连续的`一维数组`每个`torch.Tensor`都具有心相通数据类型的相应储存\n",
    "\n",
    "`class torch.FloatStorage` 其中方法说明\n",
    "`byte()`：将Storage转为byte类型\n",
    "`char()`:将Storage转为char类型\n",
    "`clone()`:返回Storage的副本\n",
    "`copy_()`\n",
    "`cpu()`：如果尚未在CPU上，则返回Storage的CPU副本\n",
    "`cuda(device=None, async=False)`：在CUDA内存中返回此对象的副本。如果该对象已经在CUDA内存中，并且在正确的设备上，则不会执行任何操作，并返回原始对象。 参数说明：\n",
    "device (int) - 目标GPU的id。默认值是当前设备。\n",
    "async (bool) -如果值为True，且源在锁定内存中，则副本相对于宿主是异步的。否则此参数不起效果。\n",
    "data_ptr()： 返回一个时间戳\n",
    "double()：将Storage转为double类型\n",
    "element_size()：返回参数的size\n",
    "fill_()\n",
    "float():将Storage转为float类型\n",
    "from_buffer()\n",
    "half():将Storage转为half类型\n",
    "int():将Storage转为int类型\n",
    "is_cuda = False\n",
    "is_pinned()\n",
    "is_shared()\n",
    "is_spars = False\n",
    "long():将Storage转为long类型\n",
    "new()\n",
    "pin_memory()：将存储复制到固定内存（如果尚未固定）。\n",
    "resize_()\n",
    "share_memory_()：这对于已经在共享内存和CUDA存储器中的存储器是无效的，不需要为了跨进程共享而移动。无法调整共享内存中的存储空间。返回：self\n",
    "short():将Storage转为short类型\n",
    "size()：返回Storage转的大小\n",
    "tolist():返回一个包含Storage中元素的列表\n",
    "type(new_type=None, async=False)：将此对象转为指定类型。如果已经是正确类型，不会执行复制操作，直接返回原对象。\n",
    "参数说明：\n",
    "\n",
    "new_type (type或string) -需要转成的类型\n",
    "async (bool) -如果值为True，并且源处于固定内存中，目标位于GPU上，反之亦然，则相对于主机异步执行该副本。否则，参数没有效果。\n",
    "具体使用教程请参考：使用torch.Storage共享多个张量的相同存储以及将torch.Tensor转化为torch.Storage"
   ]
  },
  {
   "cell_type": "code",
   "execution_count": 6,
   "metadata": {},
   "outputs": [
    {
     "name": "stdout",
     "output_type": "stream",
     "text": [
      "tensor([[-0.0655,  0.4594,  0.0536],\n",
      "        [-0.7390,  1.0493,  0.0938],\n",
      "        [-0.6255,  0.7376,  0.9421]])\n"
     ]
    }
   ],
   "source": [
    "x = torch.randn(3,3)\n",
    "print(x)"
   ]
  },
  {
   "cell_type": "code",
   "execution_count": 10,
   "metadata": {},
   "outputs": [
    {
     "name": "stdout",
     "output_type": "stream",
     "text": [
      " -0.06551788747310638\n",
      " 0.45938602089881897\n",
      " 0.053568035364151\n",
      " -0.7390248775482178\n",
      " 1.0493110418319702\n",
      " 0.09382849931716919\n",
      " -0.625450074672699\n",
      " 0.7376147508621216\n",
      " 0.9421073794364929\n",
      "[torch.FloatStorage of size 9]\n",
      "torch.float32\n"
     ]
    }
   ],
   "source": [
    "print(x.storage())\n",
    "print(x.storage().dtype)"
   ]
  }
 ],
 "metadata": {
  "kernelspec": {
   "display_name": "Python 3",
   "language": "python",
   "name": "python3"
  },
  "language_info": {
   "codemirror_mode": {
    "name": "ipython",
    "version": 3
   },
   "file_extension": ".py",
   "mimetype": "text/x-python",
   "name": "python",
   "nbconvert_exporter": "python",
   "pygments_lexer": "ipython3",
   "version": "3.7.7"
  }
 },
 "nbformat": 4,
 "nbformat_minor": 4
}
