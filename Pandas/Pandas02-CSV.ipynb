{
 "cells": [
  {
   "cell_type": "markdown",
   "metadata": {},
   "source": [
    "## Pandas文件IO Tools"
   ]
  },
  {
   "cell_type": "markdown",
   "metadata": {},
   "source": [
    "### 读CSV文件"
   ]
  },
  {
   "cell_type": "code",
   "execution_count": 4,
   "metadata": {},
   "outputs": [
    {
     "name": "stdout",
     "output_type": "stream",
     "text": [
      "       1                         goldfish Carassius auratus\n",
      "0      2   great white shark white shark man-eater man-e...\n",
      "1      3                     tiger shark Galeocerdo cuvieri\n",
      "2      4                        hammerhead hammerhead shark\n",
      "3      5            electric ray crampfish numbfish torpedo\n",
      "4      6                                           stingray\n",
      "..   ...                                                ...\n",
      "993  995                                          earthstar\n",
      "994  996   hen-of-the-woods hen of the woods Polyporus f...\n",
      "995  997                                             bolete\n",
      "996  998                                ear spike capitulum\n",
      "997  999        toilet tissue toilet paper bathroom tissue}\n",
      "\n",
      "[998 rows x 2 columns]\n",
      "Index([' 1', ' goldfish Carassius auratus'], dtype='object')\n",
      "0        2\n",
      "1        3\n",
      "2        4\n",
      "3        5\n",
      "4        6\n",
      "      ... \n",
      "993    995\n",
      "994    996\n",
      "995    997\n",
      "996    998\n",
      "997    999\n",
      "Name:  1, Length: 998, dtype: int64\n"
     ]
    }
   ],
   "source": [
    "import pandas as pd\n",
    "classes = pd.read_csv('imagenet_class.csv',sep=',',header=1)\n",
    "print(classes)\n",
    "print(classes.keys())\n",
    "print(classes[' 1'])"
   ]
  },
  {
   "cell_type": "markdown",
   "metadata": {},
   "source": [
    "### csv文件读取常用参数"
   ]
  },
  {
   "cell_type": "code",
   "execution_count": 5,
   "metadata": {},
   "outputs": [
    {
     "name": "stdout",
     "output_type": "stream",
     "text": [
      "  col1 col2  col3\n",
      "0    a    b     1\n",
      "1    a    b     2\n",
      "2    c    d     3\n",
      "Index(['col1', 'col2', 'col3'], dtype='object')\n"
     ]
    }
   ],
   "source": [
    "from io import StringIO  #这里因为为了偷懒,不从本地读取文件,直接从内存创建读取文件\n",
    "data = ('col1,col2,col3\\n'\n",
    "            'a,b,1\\n'\n",
    "            'a,b,2\\n'\n",
    "            'c,d,3')\n",
    "a = pd.read_csv(StringIO(data))\n",
    "print(a)  #没有设置其他参数,默认列索引为文件第一行\n",
    "print(a.keys())  #查看列索引值"
   ]
  },
  {
   "cell_type": "code",
   "execution_count": 6,
   "metadata": {},
   "outputs": [
    {
     "name": "stdout",
     "output_type": "stream",
     "text": [
      "  col1  col3\n",
      "0    a     1\n",
      "1    a     2\n",
      "2    c     3\n",
      "  col1  col3\n",
      "0    a     1\n",
      "1    a     2\n",
      "2    c     3\n"
     ]
    }
   ],
   "source": [
    "#usecols查看指定列值,使用lambda表达式\n",
    "print(pd.read_csv(StringIO(data),usecols = lambda x:x.upper() in ['COL1','COL3']))\n",
    "#与下面的式等价\n",
    "print(pd.read_csv(StringIO(data),usecols = ['col1','col3']))"
   ]
  },
  {
   "cell_type": "markdown",
   "metadata": {},
   "source": [
    "### 使用skiprows去掉指定行之后读文件\n",
    "skiprows=[0,1,2] 需要跳过的行号，从文件头0开始，skip_footer从文件尾开始"
   ]
  },
  {
   "cell_type": "code",
   "execution_count": 7,
   "metadata": {},
   "outputs": [
    {
     "name": "stdout",
     "output_type": "stream",
     "text": [
      "col1,col2,col3\n",
      "a,b,1\n",
      "a,b,2\n",
      "c,d,3\n",
      "  col1 col2  col3\n",
      "0    a    b     2\n",
      "  col1 col2  col3\n",
      "0    c    d     3\n",
      "   a  b  2\n",
      "0  c  d  3\n",
      "  col1 col2  col3\n",
      "0    a    b     1\n",
      "1    a    b     2\n",
      "2    c    d     3\n",
      "   a  b  1\n",
      "0  a  b  2\n",
      "1  c  d  3\n",
      "   a  b  2\n",
      "0  c  d  3\n",
      "Empty DataFrame\n",
      "Columns: [c, d, 3]\n",
      "Index: []\n",
      "  col1 col2  col3\n",
      "0    a    b     1\n",
      "1    a    b     2\n"
     ]
    }
   ],
   "source": [
    "#从原始文件中去掉指定行之后读取文件\n",
    "data = ('col1,col2,col3\\n'\n",
    "            'a,b,1\\n'\n",
    "            'a,b,2\\n'\n",
    "            'c,d,3')\n",
    "print(data)\n",
    "print(pd.read_csv(StringIO(data),skiprows=lambda x: x % 2 != 0))\n",
    "print(pd.read_csv(StringIO(data),skiprows=[1,2]))#划掉二三行 用列表的形式索引从0开始\n",
    "print(pd.read_csv(StringIO(data),skiprows=[0,1])) #划掉一二行\n",
    "print(pd.read_csv(StringIO(data),skiprows=0))  #相当于没划掉行\n",
    "print(pd.read_csv(StringIO(data),skiprows=1))  #划掉第一行\n",
    "print(pd.read_csv(StringIO(data),skiprows=2))  #划掉一二行\n",
    "print(pd.read_csv(StringIO(data),skiprows=3))  #划掉一二三行\n",
    "print(pd.read_csv(StringIO(data),skiprows=[3]))  #划掉第四行\n"
   ]
  },
  {
   "cell_type": "markdown",
   "metadata": {},
   "source": [
    "### dtype设置各字段的数据类型"
   ]
  },
  {
   "cell_type": "code",
   "execution_count": 8,
   "metadata": {},
   "outputs": [
    {
     "name": "stdout",
     "output_type": "stream",
     "text": [
      "a,b,c,d\n",
      "1,2,3,4\n",
      "5,6,7,8\n",
      "9,10,11\n"
     ]
    }
   ],
   "source": [
    "data = ('a,b,c,d\\n'\n",
    "   ....:         '1,2,3,4\\n'\n",
    "   ....:         '5,6,7,8\\n'\n",
    "   ....:         '9,10,11')\n",
    "print(data)"
   ]
  },
  {
   "cell_type": "code",
   "execution_count": 9,
   "metadata": {},
   "outputs": [
    {
     "name": "stdout",
     "output_type": "stream",
     "text": [
      "a      int64\n",
      "b     object\n",
      "c    float64\n",
      "d      Int64\n",
      "dtype: object\n"
     ]
    }
   ],
   "source": [
    "import numpy as np\n",
    "df = pd.read_csv(StringIO(data),dtype={'b': object, 'c': np.float64, 'd': 'Int64'})\n",
    "print(df.dtypes)"
   ]
  },
  {
   "cell_type": "markdown",
   "metadata": {},
   "source": [
    "### converters对指定行进行转换"
   ]
  },
  {
   "cell_type": "code",
   "execution_count": 10,
   "metadata": {},
   "outputs": [
    {
     "name": "stdout",
     "output_type": "stream",
     "text": [
      "   a   b   c    d\n",
      "0  1   2   3  4.0\n",
      "1  5   6   7  8.0\n",
      "2  9  10  11  NaN\n",
      "    a   b   c    d\n",
      "0   1   2   3  4.0\n",
      "1  25   6   7  8.0\n",
      "2  81  10  11  NaN\n"
     ]
    },
    {
     "ename": "TypeError",
     "evalue": "can't multiply sequence by non-int of type 'str'",
     "output_type": "error",
     "traceback": [
      "\u001b[1;31m---------------------------------------------------------------------------\u001b[0m",
      "\u001b[1;31mTypeError\u001b[0m                                 Traceback (most recent call last)",
      "\u001b[1;32m<ipython-input-10-ea546e819413>\u001b[0m in \u001b[0;36m<module>\u001b[1;34m\u001b[0m\n\u001b[0;32m      3\u001b[0m \u001b[0mprint\u001b[0m\u001b[1;33m(\u001b[0m\u001b[0ma\u001b[0m\u001b[1;33m)\u001b[0m\u001b[1;33m\u001b[0m\u001b[1;33m\u001b[0m\u001b[0m\n\u001b[0;32m      4\u001b[0m \u001b[1;31m#下面这种方式出错TypeError: can't multiply sequence by non-int of type 'str'\u001b[0m\u001b[1;33m\u001b[0m\u001b[1;33m\u001b[0m\u001b[1;33m\u001b[0m\u001b[0m\n\u001b[1;32m----> 5\u001b[1;33m \u001b[0mprint\u001b[0m\u001b[1;33m(\u001b[0m\u001b[0mpd\u001b[0m\u001b[1;33m.\u001b[0m\u001b[0mread_csv\u001b[0m\u001b[1;33m(\u001b[0m\u001b[0mStringIO\u001b[0m\u001b[1;33m(\u001b[0m\u001b[0mdata\u001b[0m\u001b[1;33m)\u001b[0m\u001b[1;33m,\u001b[0m\u001b[0mconverters\u001b[0m\u001b[1;33m=\u001b[0m\u001b[1;33m{\u001b[0m\u001b[1;34m'a'\u001b[0m\u001b[1;33m:\u001b[0m\u001b[1;32mlambda\u001b[0m \u001b[0mx\u001b[0m\u001b[1;33m:\u001b[0m\u001b[0mx\u001b[0m\u001b[1;33m*\u001b[0m\u001b[0mx\u001b[0m\u001b[1;33m}\u001b[0m\u001b[1;33m)\u001b[0m\u001b[1;33m)\u001b[0m\u001b[1;33m\u001b[0m\u001b[1;33m\u001b[0m\u001b[0m\n\u001b[0m",
      "\u001b[1;32mD:\\Anaconda\\lib\\site-packages\\pandas\\io\\parsers.py\u001b[0m in \u001b[0;36mparser_f\u001b[1;34m(filepath_or_buffer, sep, delimiter, header, names, index_col, usecols, squeeze, prefix, mangle_dupe_cols, dtype, engine, converters, true_values, false_values, skipinitialspace, skiprows, skipfooter, nrows, na_values, keep_default_na, na_filter, verbose, skip_blank_lines, parse_dates, infer_datetime_format, keep_date_col, date_parser, dayfirst, cache_dates, iterator, chunksize, compression, thousands, decimal, lineterminator, quotechar, quoting, doublequote, escapechar, comment, encoding, dialect, error_bad_lines, warn_bad_lines, delim_whitespace, low_memory, memory_map, float_precision)\u001b[0m\n\u001b[0;32m    683\u001b[0m         )\n\u001b[0;32m    684\u001b[0m \u001b[1;33m\u001b[0m\u001b[0m\n\u001b[1;32m--> 685\u001b[1;33m         \u001b[1;32mreturn\u001b[0m \u001b[0m_read\u001b[0m\u001b[1;33m(\u001b[0m\u001b[0mfilepath_or_buffer\u001b[0m\u001b[1;33m,\u001b[0m \u001b[0mkwds\u001b[0m\u001b[1;33m)\u001b[0m\u001b[1;33m\u001b[0m\u001b[1;33m\u001b[0m\u001b[0m\n\u001b[0m\u001b[0;32m    686\u001b[0m \u001b[1;33m\u001b[0m\u001b[0m\n\u001b[0;32m    687\u001b[0m     \u001b[0mparser_f\u001b[0m\u001b[1;33m.\u001b[0m\u001b[0m__name__\u001b[0m \u001b[1;33m=\u001b[0m \u001b[0mname\u001b[0m\u001b[1;33m\u001b[0m\u001b[1;33m\u001b[0m\u001b[0m\n",
      "\u001b[1;32mD:\\Anaconda\\lib\\site-packages\\pandas\\io\\parsers.py\u001b[0m in \u001b[0;36m_read\u001b[1;34m(filepath_or_buffer, kwds)\u001b[0m\n\u001b[0;32m    461\u001b[0m \u001b[1;33m\u001b[0m\u001b[0m\n\u001b[0;32m    462\u001b[0m     \u001b[1;32mtry\u001b[0m\u001b[1;33m:\u001b[0m\u001b[1;33m\u001b[0m\u001b[1;33m\u001b[0m\u001b[0m\n\u001b[1;32m--> 463\u001b[1;33m         \u001b[0mdata\u001b[0m \u001b[1;33m=\u001b[0m \u001b[0mparser\u001b[0m\u001b[1;33m.\u001b[0m\u001b[0mread\u001b[0m\u001b[1;33m(\u001b[0m\u001b[0mnrows\u001b[0m\u001b[1;33m)\u001b[0m\u001b[1;33m\u001b[0m\u001b[1;33m\u001b[0m\u001b[0m\n\u001b[0m\u001b[0;32m    464\u001b[0m     \u001b[1;32mfinally\u001b[0m\u001b[1;33m:\u001b[0m\u001b[1;33m\u001b[0m\u001b[1;33m\u001b[0m\u001b[0m\n\u001b[0;32m    465\u001b[0m         \u001b[0mparser\u001b[0m\u001b[1;33m.\u001b[0m\u001b[0mclose\u001b[0m\u001b[1;33m(\u001b[0m\u001b[1;33m)\u001b[0m\u001b[1;33m\u001b[0m\u001b[1;33m\u001b[0m\u001b[0m\n",
      "\u001b[1;32mD:\\Anaconda\\lib\\site-packages\\pandas\\io\\parsers.py\u001b[0m in \u001b[0;36mread\u001b[1;34m(self, nrows)\u001b[0m\n\u001b[0;32m   1152\u001b[0m     \u001b[1;32mdef\u001b[0m \u001b[0mread\u001b[0m\u001b[1;33m(\u001b[0m\u001b[0mself\u001b[0m\u001b[1;33m,\u001b[0m \u001b[0mnrows\u001b[0m\u001b[1;33m=\u001b[0m\u001b[1;32mNone\u001b[0m\u001b[1;33m)\u001b[0m\u001b[1;33m:\u001b[0m\u001b[1;33m\u001b[0m\u001b[1;33m\u001b[0m\u001b[0m\n\u001b[0;32m   1153\u001b[0m         \u001b[0mnrows\u001b[0m \u001b[1;33m=\u001b[0m \u001b[0m_validate_integer\u001b[0m\u001b[1;33m(\u001b[0m\u001b[1;34m\"nrows\"\u001b[0m\u001b[1;33m,\u001b[0m \u001b[0mnrows\u001b[0m\u001b[1;33m)\u001b[0m\u001b[1;33m\u001b[0m\u001b[1;33m\u001b[0m\u001b[0m\n\u001b[1;32m-> 1154\u001b[1;33m         \u001b[0mret\u001b[0m \u001b[1;33m=\u001b[0m \u001b[0mself\u001b[0m\u001b[1;33m.\u001b[0m\u001b[0m_engine\u001b[0m\u001b[1;33m.\u001b[0m\u001b[0mread\u001b[0m\u001b[1;33m(\u001b[0m\u001b[0mnrows\u001b[0m\u001b[1;33m)\u001b[0m\u001b[1;33m\u001b[0m\u001b[1;33m\u001b[0m\u001b[0m\n\u001b[0m\u001b[0;32m   1155\u001b[0m \u001b[1;33m\u001b[0m\u001b[0m\n\u001b[0;32m   1156\u001b[0m         \u001b[1;31m# May alter columns / col_dict\u001b[0m\u001b[1;33m\u001b[0m\u001b[1;33m\u001b[0m\u001b[1;33m\u001b[0m\u001b[0m\n",
      "\u001b[1;32mD:\\Anaconda\\lib\\site-packages\\pandas\\io\\parsers.py\u001b[0m in \u001b[0;36mread\u001b[1;34m(self, nrows)\u001b[0m\n\u001b[0;32m   2057\u001b[0m     \u001b[1;32mdef\u001b[0m \u001b[0mread\u001b[0m\u001b[1;33m(\u001b[0m\u001b[0mself\u001b[0m\u001b[1;33m,\u001b[0m \u001b[0mnrows\u001b[0m\u001b[1;33m=\u001b[0m\u001b[1;32mNone\u001b[0m\u001b[1;33m)\u001b[0m\u001b[1;33m:\u001b[0m\u001b[1;33m\u001b[0m\u001b[1;33m\u001b[0m\u001b[0m\n\u001b[0;32m   2058\u001b[0m         \u001b[1;32mtry\u001b[0m\u001b[1;33m:\u001b[0m\u001b[1;33m\u001b[0m\u001b[1;33m\u001b[0m\u001b[0m\n\u001b[1;32m-> 2059\u001b[1;33m             \u001b[0mdata\u001b[0m \u001b[1;33m=\u001b[0m \u001b[0mself\u001b[0m\u001b[1;33m.\u001b[0m\u001b[0m_reader\u001b[0m\u001b[1;33m.\u001b[0m\u001b[0mread\u001b[0m\u001b[1;33m(\u001b[0m\u001b[0mnrows\u001b[0m\u001b[1;33m)\u001b[0m\u001b[1;33m\u001b[0m\u001b[1;33m\u001b[0m\u001b[0m\n\u001b[0m\u001b[0;32m   2060\u001b[0m         \u001b[1;32mexcept\u001b[0m \u001b[0mStopIteration\u001b[0m\u001b[1;33m:\u001b[0m\u001b[1;33m\u001b[0m\u001b[1;33m\u001b[0m\u001b[0m\n\u001b[0;32m   2061\u001b[0m             \u001b[1;32mif\u001b[0m \u001b[0mself\u001b[0m\u001b[1;33m.\u001b[0m\u001b[0m_first_chunk\u001b[0m\u001b[1;33m:\u001b[0m\u001b[1;33m\u001b[0m\u001b[1;33m\u001b[0m\u001b[0m\n",
      "\u001b[1;32mpandas\\_libs\\parsers.pyx\u001b[0m in \u001b[0;36mpandas._libs.parsers.TextReader.read\u001b[1;34m()\u001b[0m\n",
      "\u001b[1;32mpandas\\_libs\\parsers.pyx\u001b[0m in \u001b[0;36mpandas._libs.parsers.TextReader._read_low_memory\u001b[1;34m()\u001b[0m\n",
      "\u001b[1;32mpandas\\_libs\\parsers.pyx\u001b[0m in \u001b[0;36mpandas._libs.parsers.TextReader._read_rows\u001b[1;34m()\u001b[0m\n",
      "\u001b[1;32mpandas\\_libs\\parsers.pyx\u001b[0m in \u001b[0;36mpandas._libs.parsers.TextReader._convert_column_data\u001b[1;34m()\u001b[0m\n",
      "\u001b[1;32mpandas\\_libs\\parsers.pyx\u001b[0m in \u001b[0;36mpandas._libs.parsers._apply_converter\u001b[1;34m()\u001b[0m\n",
      "\u001b[1;32m<ipython-input-10-ea546e819413>\u001b[0m in \u001b[0;36m<lambda>\u001b[1;34m(x)\u001b[0m\n\u001b[0;32m      3\u001b[0m \u001b[0mprint\u001b[0m\u001b[1;33m(\u001b[0m\u001b[0ma\u001b[0m\u001b[1;33m)\u001b[0m\u001b[1;33m\u001b[0m\u001b[1;33m\u001b[0m\u001b[0m\n\u001b[0;32m      4\u001b[0m \u001b[1;31m#下面这种方式出错TypeError: can't multiply sequence by non-int of type 'str'\u001b[0m\u001b[1;33m\u001b[0m\u001b[1;33m\u001b[0m\u001b[1;33m\u001b[0m\u001b[0m\n\u001b[1;32m----> 5\u001b[1;33m \u001b[0mprint\u001b[0m\u001b[1;33m(\u001b[0m\u001b[0mpd\u001b[0m\u001b[1;33m.\u001b[0m\u001b[0mread_csv\u001b[0m\u001b[1;33m(\u001b[0m\u001b[0mStringIO\u001b[0m\u001b[1;33m(\u001b[0m\u001b[0mdata\u001b[0m\u001b[1;33m)\u001b[0m\u001b[1;33m,\u001b[0m\u001b[0mconverters\u001b[0m\u001b[1;33m=\u001b[0m\u001b[1;33m{\u001b[0m\u001b[1;34m'a'\u001b[0m\u001b[1;33m:\u001b[0m\u001b[1;32mlambda\u001b[0m \u001b[0mx\u001b[0m\u001b[1;33m:\u001b[0m\u001b[0mx\u001b[0m\u001b[1;33m*\u001b[0m\u001b[0mx\u001b[0m\u001b[1;33m}\u001b[0m\u001b[1;33m)\u001b[0m\u001b[1;33m)\u001b[0m\u001b[1;33m\u001b[0m\u001b[1;33m\u001b[0m\u001b[0m\n\u001b[0m",
      "\u001b[1;31mTypeError\u001b[0m: can't multiply sequence by non-int of type 'str'"
     ]
    }
   ],
   "source": [
    "print(pd.read_csv(StringIO(data)))\n",
    "a = pd.read_csv(StringIO(data),converters={'a':lambda x:int(x)*int(x)})\n",
    "print(a)\n",
    "#下面这种方式出错TypeError: can't multiply sequence by non-int of type 'str'\n",
    "print(pd.read_csv(StringIO(data),converters={'a':lambda x:x*x}))"
   ]
  },
  {
   "cell_type": "markdown",
   "metadata": {},
   "source": [
    "### 利用names参数修改表头名称,header参数指定表头且去掉表头前的行，默认值为0即第一行为表头"
   ]
  },
  {
   "cell_type": "code",
   "execution_count": 11,
   "metadata": {},
   "outputs": [
    {
     "name": "stdout",
     "output_type": "stream",
     "text": [
      "a,b,c,d\n",
      "1,2,3,4\n",
      "5,6,7,8\n",
      "9,10,11\n",
      "   a   b   c    d\n",
      "0  1   2   3  4.0\n",
      "1  5   6   7  8.0\n",
      "2  9  10  11  NaN\n",
      "  c1  c2  c3   c4\n",
      "0  a   b   c    d\n",
      "1  1   2   3    4\n",
      "2  5   6   7    8\n",
      "3  9  10  11  NaN\n",
      "  c3  c2  c1   c4\n",
      "0  a   b   c    d\n",
      "1  1   2   3    4\n",
      "2  5   6   7    8\n",
      "3  9  10  11  NaN\n",
      "   c1  c2  c3   c4\n",
      "0   1   2   3  4.0\n",
      "1   5   6   7  8.0\n",
      "2   9  10  11  NaN\n"
     ]
    }
   ],
   "source": [
    "print(data)\n",
    "print(pd.read_csv(StringIO(data)))\n",
    "print(pd.read_csv(StringIO(data),names = ['c1','c2','c3','c4']))#无表头\n",
    "# 本来是C1,C2,C3,C4排列应为字典是无顺序的所以下面names字典无序排列\n",
    "print(pd.read_csv(StringIO(data),names = {'c1','c2','c3','c4'},header=None)) #无表头\n",
    "print(pd.read_csv(StringIO(data),names = ('c1','c2','c3','c4'),header=0))"
   ]
  },
  {
   "cell_type": "markdown",
   "metadata": {},
   "source": [
    "### comment参数去掉每行特殊字符后面的字符串之后读取文件"
   ]
  },
  {
   "cell_type": "code",
   "execution_count": 24,
   "metadata": {},
   "outputs": [
    {
     "name": "stdout",
     "output_type": "stream",
     "text": [
      "\n",
      "a,b,c\n",
      "  \n",
      "# commented line\n",
      "1,2,3\n",
      "\n",
      "4,5,6\n",
      "   a  b  c\n",
      "0  1  2  3\n",
      "1  4  5  6\n"
     ]
    }
   ],
   "source": [
    "import pandas as pd\n",
    "data = (    '\\n'\n",
    "            'a,b,c\\n'\n",
    "            '  \\n'\n",
    "            '# commented line\\n'\n",
    "            '1,2,3\\n'\n",
    "            '\\n'\n",
    "            '4,5,6')\n",
    "    \n",
    "\n",
    "print(data)\n",
    "\n",
    "print(pd.read_csv(StringIO(data), comment='#'))\n"
   ]
  },
  {
   "cell_type": "code",
   "execution_count": 25,
   "metadata": {},
   "outputs": [
    {
     "name": "stdout",
     "output_type": "stream",
     "text": [
      "     a    b    c\n",
      "0  NaN  NaN  NaN\n",
      "1  1.0  2.0  3.0\n",
      "2  NaN  NaN  NaN\n",
      "3  NaN  NaN  NaN\n",
      "4  4.0  5.0  6.0\n"
     ]
    }
   ],
   "source": [
    "#skip_blank_lines去掉空行之后读文件 False的时候不忽视空行\n",
    "data = (    'a,b,c\\n'\n",
    "            '\\n'\n",
    "            '1,2,3\\n'\n",
    "            '\\n'\n",
    "            '\\n'\n",
    "            '4,5,6')\n",
    "    \n",
    "\n",
    "print(pd.read_csv(StringIO(data), skip_blank_lines=False))\n"
   ]
  },
  {
   "cell_type": "code",
   "execution_count": 26,
   "metadata": {},
   "outputs": [
    {
     "name": "stdout",
     "output_type": "stream",
     "text": [
      "#comment\n",
      "a,b,c\n",
      "A,B,C\n",
      "1,2,3\n",
      "\n",
      "   A  B  C\n",
      "0  1  2  3\n",
      "\n",
      "A,B,C\n",
      "#comment\n",
      "a,b,c\n",
      "1,2,3\n",
      "\n",
      "   A  B  C\n",
      "0  a  b  c\n",
      "1  1  2  3\n",
      "   a  b  c\n",
      "0  1  2  3\n",
      "   a  b  c\n",
      "0  1  2  3\n",
      "Empty DataFrame\n",
      "Columns: [1, 2, 3]\n",
      "Index: []\n"
     ]
    }
   ],
   "source": [
    "data = ('#comment\\n'\n",
    "            'a,b,c\\n'\n",
    "            'A,B,C\\n'\n",
    "            '1,2,3')\n",
    "    \n",
    "print(data)\n",
    "print()\n",
    "print(pd.read_csv(StringIO(data), comment='#', header=1)) #先划掉行在读表\n",
    "\n",
    "print()\n",
    "data = ('A,B,C\\n'\n",
    "            '#comment\\n'\n",
    "            'a,b,c\\n'\n",
    "            '1,2,3')\n",
    "    \n",
    "print(data)\n",
    "print()\n",
    "print(pd.read_csv(StringIO(data), comment='#', skiprows=0)) \n",
    "print(pd.read_csv(StringIO(data), comment='#', skiprows=1))\n",
    "print(pd.read_csv(StringIO(data), comment='#', skiprows=2))\n",
    "print(pd.read_csv(StringIO(data), skiprows=3))"
   ]
  },
  {
   "cell_type": "markdown",
   "metadata": {},
   "source": [
    "```python\n",
    "|-WARNING:当有既有参数header又有参数comment或者skiprows的时候header的执行在后两个之后\n",
    "    而且header会忽视掉空行，comment划和skiprows忽视掉的行都为空行，并且在shiprows的时候是不会忽视空行的\n",
    "    即当comment之后的行skiprows处理的时候不会忽视\n",
    "```"
   ]
  },
  {
   "cell_type": "markdown",
   "metadata": {},
   "source": [
    "If a file has one more column of data than the number of column names, the first column will be used as the DataFrame’s row names:"
   ]
  },
  {
   "cell_type": "code",
   "execution_count": 28,
   "metadata": {},
   "outputs": [
    {
     "name": "stdout",
     "output_type": "stream",
     "text": [
      "        a    b     c\n",
      "4   apple  bat   5.7\n",
      "8  orange  cow  10.0\n"
     ]
    }
   ],
   "source": [
    "\n",
    "In [85]: data = ('a,b,c\\n'\n",
    "   ....:         '4,apple,bat,5.7\\n'\n",
    "   ....:         '8,orange,cow,10')\n",
    "   ....: \n",
    "\n",
    "print(pd.read_csv(StringIO(data)))"
   ]
  },
  {
   "cell_type": "code",
   "execution_count": null,
   "metadata": {},
   "outputs": [],
   "source": [
    "# index_col设置某column为行names\n",
    "In [87]: data = ('index,a,b,c\\n'\n",
    "   ....:         '4,apple,bat,5.7\\n'\n",
    "   ....:         '8,orange,cow,10')\n",
    "   ....: \n",
    "\n",
    "#index行有缺失\n",
    "pd.read_csv(StringIO(data), index_col=0) "
   ]
  },
  {
   "cell_type": "code",
   "execution_count": 29,
   "metadata": {},
   "outputs": [
    {
     "name": "stdout",
     "output_type": "stream",
     "text": [
      "a,b,c\n",
      "4,apple,bat,a\n",
      "8,orange,cow\n",
      "        a    b    c\n",
      "4   apple  bat    a\n",
      "8  orange  cow  NaN\n",
      "   a       b    c\n",
      "0  4   apple  bat\n",
      "1  8  orange  cow\n"
     ]
    }
   ],
   "source": [
    "data = ('a,b,c\\n'\n",
    "   ....:         '4,apple,bat,a\\n'\n",
    "   ....:         '8,orange,cow')\n",
    "   ....: \n",
    "\n",
    "print(data)\n",
    "print(pd.read_csv(StringIO(data)))\n",
    "print(pd.read_csv(StringIO(data), index_col=False)) #这时候会自动对齐多余的列会丢掉"
   ]
  },
  {
   "cell_type": "code",
   "execution_count": 30,
   "metadata": {},
   "outputs": [
    {
     "name": "stdout",
     "output_type": "stream",
     "text": [
      "a,b,c\n",
      "4,apple,bat,\n",
      "8,orange,cow,\n",
      "     b   c\n",
      "4  bat NaN\n",
      "8  cow NaN\n",
      "     b   c\n",
      "4  bat NaN\n",
      "8  cow NaN\n"
     ]
    }
   ],
   "source": [
    "In [93]: data = ('a,b,c\\n'\n",
    "   ....:         '4,apple,bat,\\n'\n",
    "   ....:         '8,orange,cow,')\n",
    "   ....: \n",
    "print(data)\n",
    "#下面两式等价\n",
    "print(pd.read_csv(StringIO(data), usecols=['b', 'c']))\n",
    "print(pd.read_csv(StringIO(data), usecols=['b', 'c'], index_col=0))"
   ]
  },
  {
   "cell_type": "markdown",
   "metadata": {},
   "source": [
    "### sep = ','为分支界定符号"
   ]
  },
  {
   "cell_type": "code",
   "execution_count": null,
   "metadata": {},
   "outputs": [],
   "source": [
    "In [128]: print(open('tmp.csv').read())\n",
    "ID|level|category\n",
    "Patient1|123,000|x\n",
    "Patient2|23,000|y\n",
    "Patient3|1,234,018|z\n",
    "\n",
    "In [129]: df = pd.read_csv('tmp.csv', sep='|')\n",
    "\n",
    "In [130]: df\n",
    "Out[130]: \n",
    "         ID      level category\n",
    "0  Patient1    123,000        x\n",
    "1  Patient2     23,000        y\n",
    "2  Patient3  1,234,018        z\n",
    "\n",
    "In [131]: df.level.dtype\n",
    "Out[131]: dtype('O')\n"
   ]
  },
  {
   "cell_type": "code",
   "execution_count": null,
   "metadata": {},
   "outputs": [],
   "source": [
    "In [132]: print(open('tmp.csv').read())\n",
    "ID|level|category\n",
    "Patient1|123,000|x\n",
    "Patient2|23,000|y\n",
    "Patient3|1,234,018|z\n",
    "\n",
    "In [133]: df = pd.read_csv('tmp.csv', sep='|', thousands=',') #thousands去掉千分位符号\n",
    "\n",
    "In [134]: df\n",
    "Out[134]: \n",
    "         ID    level category\n",
    "0  Patient1   123000        x\n",
    "1  Patient2    23000        y\n",
    "2  Patient3  1234018        z\n",
    "\n",
    "In [135]: df.level.dtype\n",
    "Out[135]: dtype('int64')\n"
   ]
  },
  {
   "cell_type": "markdown",
   "metadata": {},
   "source": [
    "### 多重索引"
   ]
  },
  {
   "cell_type": "code",
   "execution_count": null,
   "metadata": {},
   "outputs": [],
   "source": [
    "In [174]: print(open('data/mindex_ex.csv').read())\n",
    "year,indiv,zit,xit\n",
    "1977,\"A\",1.2,.6\n",
    "1977,\"B\",1.5,.5\n",
    "1977,\"C\",1.7,.8\n",
    "1978,\"A\",.2,.06\n",
    "1978,\"B\",.7,.2\n",
    "1978,\"C\",.8,.3\n",
    "1978,\"D\",.9,.5\n",
    "1978,\"E\",1.4,.9\n",
    "1979,\"C\",.2,.15\n",
    "1979,\"D\",.14,.05\n",
    "1979,\"E\",.5,.15\n",
    "1979,\"F\",1.2,.5\n",
    "1979,\"G\",3.4,1.9\n",
    "1979,\"H\",5.4,2.7\n",
    "1979,\"I\",6.4,1.2\n",
    "\n",
    "In [175]: df = pd.read_csv(\"data/mindex_ex.csv\", index_col=[0, 1]) #设置第一列和第二列为索引\n",
    "#多重形式会自动合并重复索引\n",
    "In [176]: df\n",
    "Out[176]: \n",
    "             zit   xit\n",
    "year indiv            \n",
    "1977 A      1.20  0.60\n",
    "     B      1.50  0.50\n",
    "     C      1.70  0.80\n",
    "1978 A      0.20  0.06\n",
    "     B      0.70  0.20\n",
    "     C      0.80  0.30\n",
    "     D      0.90  0.50\n",
    "     E      1.40  0.90\n",
    "1979 C      0.20  0.15\n",
    "     D      0.14  0.05\n",
    "     E      0.50  0.15\n",
    "     F      1.20  0.50\n",
    "     G      3.40  1.90\n",
    "     H      5.40  2.70\n",
    "     I      6.40  1.20\n",
    "\n",
    "In [177]: df.loc[1978]\n",
    "Out[177]: \n",
    "       zit   xit\n",
    "indiv           \n",
    "A      0.2  0.06\n",
    "B      0.7  0.20\n",
    "C      0.8  0.30\n",
    "D      0.9  0.50\n",
    "E      1.4  0.90"
   ]
  },
  {
   "cell_type": "markdown",
   "metadata": {},
   "source": [
    "### chunksize返回一个文件迭代器对象一般用于数据量过多难以显示的时候"
   ]
  },
  {
   "cell_type": "code",
   "execution_count": null,
   "metadata": {},
   "outputs": [],
   "source": [
    "In [190]: reader = pd.read_csv('tmp.sv', sep='|', chunksize=4)\n",
    "\n",
    "In [191]: reader\n",
    "Out[191]: <pandas.io.parsers.TextFileReader at 0x7f3d18adb350>\n",
    "\n",
    "In [192]: for chunk in reader:\n",
    "   .....:     print(chunk)\n",
    "   .....: \n",
    "   Unnamed: 0         0         1         2         3\n",
    "0           0  0.469112 -0.282863 -1.509059 -1.135632\n",
    "1           1  1.212112 -0.173215  0.119209 -1.044236\n",
    "2           2 -0.861849 -2.104569 -0.494929  1.071804\n",
    "3           3  0.721555 -0.706771 -1.039575  0.271860\n",
    "   Unnamed: 0         0         1         2         3\n",
    "4           4 -0.424972  0.567020  0.276232 -1.087401\n",
    "5           5 -0.673690  0.113648 -1.478427  0.524988\n",
    "6           6  0.404705  0.577046 -1.715002 -1.039268\n",
    "7           7 -0.370647 -1.157892 -1.344312  0.844885\n",
    "   Unnamed: 0         0        1         2         3\n",
    "8           8  1.075770 -0.10905  1.643563 -1.469388\n",
    "9           9  0.357021 -0.67460 -1.776904 -0.968914"
   ]
  },
  {
   "cell_type": "code",
   "execution_count": null,
   "metadata": {},
   "outputs": [],
   "source": [
    "Specifying iterator=True will also return the TextFileReader object:\n",
    "\n",
    "In [193]: reader = pd.read_csv('tmp.sv', sep='|', iterator=True)\n",
    "\n",
    "In [194]: reader.get_chunk(5)\n",
    "Out[194]: \n",
    "   Unnamed: 0         0         1         2         3\n",
    "0           0  0.469112 -0.282863 -1.509059 -1.135632\n",
    "1           1  1.212112 -0.173215  0.119209 -1.044236\n",
    "2           2 -0.861849 -2.104569 -0.494929  1.071804\n",
    "3           3  0.721555 -0.706771 -1.039575  0.271860\n",
    "4           4 -0.424972  0.567020  0.276232 -1.087401\n"
   ]
  },
  {
   "cell_type": "code",
   "execution_count": null,
   "metadata": {},
   "outputs": [],
   "source": []
  }
 ],
 "metadata": {
  "kernelspec": {
   "display_name": "Python 3",
   "language": "python",
   "name": "python3"
  },
  "language_info": {
   "codemirror_mode": {
    "name": "ipython",
    "version": 3
   },
   "file_extension": ".py",
   "mimetype": "text/x-python",
   "name": "python",
   "nbconvert_exporter": "python",
   "pygments_lexer": "ipython3",
   "version": "3.7.4"
  }
 },
 "nbformat": 4,
 "nbformat_minor": 4
}
