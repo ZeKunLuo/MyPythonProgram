{
 "cells": [
  {
   "cell_type": "markdown",
   "metadata": {},
   "source": [
    "### 表的连接与分组操作"
   ]
  },
  {
   "cell_type": "code",
   "execution_count": 4,
   "metadata": {},
   "outputs": [
    {
     "name": "stdout",
     "output_type": "stream",
     "text": [
      "       name  data1\n",
      "0  ZhangFei      1\n",
      "1    GuanYu      2\n",
      "2         a      3\n",
      "3         b      4\n",
      "4         c      5\n",
      "       name  data2\n",
      "0  ZhangFei      1\n",
      "1    GuanYu      2\n",
      "2         A      3\n",
      "3         B      4\n",
      "4         C      5\n",
      "       name  data1  data2\n",
      "0  ZhangFei      1      1\n",
      "1    GuanYu      2      2\n"
     ]
    }
   ],
   "source": [
    "import pandas as pd\n",
    "from pandas import DataFrame\n",
    "\n",
    "df1 = DataFrame({'name':['ZhangFei', 'GuanYu', 'a', 'b', 'c'], 'data1':range(1,6)})\n",
    "df2 = DataFrame({'name':['ZhangFei', 'GuanYu', 'A', 'B', 'C'], 'data2':range(1,6)})\n",
    "print(df1)\n",
    "print(df2)\n",
    "df3 = pd.merge(df1, df2, on='name') #以'name'字段合并同内向\n",
    "print(df3)"
   ]
  },
  {
   "cell_type": "code",
   "execution_count": 5,
   "metadata": {},
   "outputs": [
    {
     "name": "stdout",
     "output_type": "stream",
     "text": [
      "       name  data1  data2\n",
      "0  ZhangFei      1      1\n",
      "1    GuanYu      2      2\n"
     ]
    }
   ],
   "source": [
    "df3 = pd.merge(df1, df2, how='inner')\n",
    "print(df3)"
   ]
  },
  {
   "cell_type": "code",
   "execution_count": 6,
   "metadata": {},
   "outputs": [
    {
     "name": "stdout",
     "output_type": "stream",
     "text": [
      "       name  data1  data2\n",
      "0  ZhangFei      1    1.0\n",
      "1    GuanYu      2    2.0\n",
      "2         a      3    NaN\n",
      "3         b      4    NaN\n",
      "4         c      5    NaN\n"
     ]
    }
   ],
   "source": [
    "df3 = pd.merge(df1, df2, how='left')\n",
    "print(df3)"
   ]
  },
  {
   "cell_type": "code",
   "execution_count": 7,
   "metadata": {},
   "outputs": [
    {
     "name": "stdout",
     "output_type": "stream",
     "text": [
      "       name  data1  data2\n",
      "0  ZhangFei    1.0      1\n",
      "1    GuanYu    2.0      2\n",
      "2         A    NaN      3\n",
      "3         B    NaN      4\n",
      "4         C    NaN      5\n"
     ]
    }
   ],
   "source": [
    "df3 = pd.merge(df1, df2, how='right')\n",
    "print(df3)"
   ]
  },
  {
   "cell_type": "code",
   "execution_count": 8,
   "metadata": {},
   "outputs": [
    {
     "name": "stdout",
     "output_type": "stream",
     "text": [
      "       name  data1  data2\n",
      "0  ZhangFei    1.0    1.0\n",
      "1    GuanYu    2.0    2.0\n",
      "2         a    3.0    NaN\n",
      "3         b    4.0    NaN\n",
      "4         c    5.0    NaN\n",
      "5         A    NaN    3.0\n",
      "6         B    NaN    4.0\n",
      "7         C    NaN    5.0\n"
     ]
    }
   ],
   "source": [
    "df3 = pd.merge(df1, df2, how='outer')\n",
    "print(df3)"
   ]
  },
  {
   "cell_type": "code",
   "execution_count": 22,
   "metadata": {},
   "outputs": [
    {
     "name": "stdout",
     "output_type": "stream",
     "text": [
      "  name role  Chinese  Maths  English\n",
      "0   张飞   坦克       66     30       65\n",
      "1   关羽   战士       95     98       85\n",
      "2   刘备   战士       93     96       92\n",
      "3   典韦   战士       90     77       88\n",
      "4   许褚   坦克       80     90       90\n",
      "('坦克',   name role  Chinese  Maths  English\n",
      "0   张飞   坦克       66     30       65\n",
      "4   许褚   坦克       80     90       90)\n",
      "('战士',   name role  Chinese  Maths  English\n",
      "1   关羽   战士       95     98       85\n",
      "2   刘备   战士       93     96       92\n",
      "3   典韦   战士       90     77       88)\n",
      "     Chinese            Maths            English           \n",
      "         sum       mean   sum       mean     sum       mean\n",
      "role                                                       \n",
      "坦克       146  73.000000   120  60.000000     155  77.500000\n",
      "战士       278  92.666667   271  90.333333     265  88.333333\n"
     ]
    }
   ],
   "source": [
    "import pandas as pd\n",
    "import numpy as np\n",
    "# 因为文件中有中文，所以采用gbk编码读取\n",
    "data = pd.read_csv('E:\\Data_Analysis_with_Python\\L2\\dataframe\\heros2.csv', encoding='gbk')\n",
    "print(data)\n",
    "\n",
    "result2 = data.groupby('role').agg([np.sum, np.mean])\n",
    "result1 = data.groupby('role')\n",
    "for i in result1:\n",
    "    print(i)\n",
    "#result.to_csv('heros2.csv')\n",
    "print(result2)"
   ]
  }
 ],
 "metadata": {
  "kernelspec": {
   "display_name": "Python 3",
   "language": "python",
   "name": "python3"
  },
  "language_info": {
   "codemirror_mode": {
    "name": "ipython",
    "version": 3
   },
   "file_extension": ".py",
   "mimetype": "text/x-python",
   "name": "python",
   "nbconvert_exporter": "python",
   "pygments_lexer": "ipython3",
   "version": "3.7.4"
  }
 },
 "nbformat": 4,
 "nbformat_minor": 4
}
