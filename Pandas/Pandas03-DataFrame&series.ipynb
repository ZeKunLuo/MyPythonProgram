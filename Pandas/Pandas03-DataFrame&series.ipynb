{
 "cells": [
  {
   "cell_type": "markdown",
   "metadata": {},
   "source": [
    "# selecting and indexing  data"
   ]
  },
  {
   "cell_type": "markdown",
   "metadata": {},
   "source": [
    "### 一、Construction of Series and DataFrame \n",
    "    只列举出常用操作具体内容参见官方文档"
   ]
  },
  {
   "cell_type": "code",
   "execution_count": 3,
   "metadata": {},
   "outputs": [
    {
     "name": "stdout",
     "output_type": "stream",
     "text": [
      "0    1\n",
      "1    2\n",
      "2    3\n",
      "3    4\n",
      "dtype: int64\n",
      "a    1\n",
      "b    2\n",
      "c    3\n",
      "d    4\n",
      "dtype: int64\n",
      "a    1\n",
      "b    2\n",
      "c    3\n",
      "d    4\n",
      "dtype: int64\n"
     ]
    }
   ],
   "source": [
    "from pandas import DataFrame,Series\n",
    "x1 = Series([1,2,3,4])\n",
    "x2 = Series(data=[1,2,3,4],index=['a','b','c','d'])\n",
    "Dict = {'a':1,'b':2,'c':3,'d':4}\n",
    "x3 = Series(Dict)\n",
    "print(x1)\n",
    "print(x2)\n",
    "print(x3)"
   ]
  },
  {
   "cell_type": "code",
   "execution_count": 5,
   "metadata": {},
   "outputs": [
    {
     "name": "stdout",
     "output_type": "stream",
     "text": [
      "   Chinese  Math  English\n",
      "0       66    30       65\n",
      "1       95    98       85\n",
      "2       93    96       92\n",
      "3       90    77       88\n",
      "4       80    90       90\n",
      "          Chinese  Math  English\n",
      "ZhangFei       66    30       65\n",
      "GuanYu         95    98       85\n",
      "LiuBei         93    96       92\n",
      "DianWei        90    77       88\n",
      "XuChu          80    90       90\n",
      "             语文     数学     英语\n",
      "ZhangFei  False  False  False\n",
      "GuanYu    False  False  False\n",
      "LiuBei    False  False  False\n",
      "DianWei   False  False  False\n",
      "XuChu     False  False  False\n",
      "              语文         数学         英语\n",
      "count   5.000000   5.000000   5.000000\n",
      "mean   84.800000  78.200000  84.000000\n",
      "std    11.987493  28.163807  10.931606\n",
      "min    66.000000  30.000000  65.000000\n",
      "25%    80.000000  77.000000  85.000000\n",
      "50%    90.000000  90.000000  88.000000\n",
      "75%    93.000000  96.000000  90.000000\n",
      "max    95.000000  98.000000  92.000000\n"
     ]
    }
   ],
   "source": [
    "# dataframe使用\n",
    "from pandas import Series, DataFrame\n",
    "data = {'Chinese': [66, 95, 93, 90,80], 'Math': [30, 98, 96, 77, 90], 'English': [65, 85, 92, 88, 90]}\n",
    "df1 = DataFrame(data)\n",
    "df2 = DataFrame(data, index=['ZhangFei', 'GuanYu', 'LiuBei', 'DianWei', 'XuChu'], columns=['Chinese', 'Math', 'English'])\n",
    "print(df1)\n",
    "print(df2)\n",
    "\n",
    "# 对列名进行更换\n",
    "df2.rename(columns={'Chinese': '语文', 'English': '英语', 'Math': '数学'}, inplace = True)\n",
    "print(df2.isnull())  #检验是否有缺失值\n",
    "# 输出df2的概要输出均值,标准差,最大值,最小值,各种分位数\n",
    "print(df2.describe())"
   ]
  },
  {
   "cell_type": "markdown",
   "metadata": {},
   "source": [
    "### 二、indexing"
   ]
  },
  {
   "cell_type": "code",
   "execution_count": 13,
   "metadata": {},
   "outputs": [
    {
     "name": "stdout",
     "output_type": "stream",
     "text": [
      "                   A         B         C         D\n",
      "2020-03-28  0.040467  2.502838  1.750702  0.752269\n",
      "2020-03-29 -0.591560 -0.607783  0.390446  0.759989\n",
      "2020-03-30 -0.201351 -1.134350 -0.912988 -0.313645\n",
      "2020-03-31  2.107192  1.267613 -0.421305 -0.286911\n",
      "2020-04-01 -0.263185 -0.974481 -0.655299 -0.672898\n",
      "2020-04-02 -0.668462 -0.668671  0.525188 -0.134835\n",
      "2020-04-03 -1.193671  2.798576  3.594377 -0.016369\n",
      "2020-04-04  1.592835 -0.351965  1.728636  0.547841\n",
      "\n",
      "2020-03-28    0.040467\n",
      "2020-03-29   -0.591560\n",
      "2020-03-30   -0.201351\n",
      "2020-03-31    2.107192\n",
      "2020-04-01   -0.263185\n",
      "2020-04-02   -0.668462\n",
      "2020-04-03   -1.193671\n",
      "2020-04-04    1.592835\n",
      "Freq: D, Name: A, dtype: float64\n",
      "\n",
      "-0.6684622593090315\n"
     ]
    }
   ],
   "source": [
    "import pandas as pd\n",
    "import numpy as np\n",
    "\n",
    "datas = pd.date_range('28/3/2020',periods = 8)\n",
    "df = pd.DataFrame(data = np.random.randn(8,4),index=datas,columns=['A','B','C','D'])\n",
    "print(df)\n",
    "a = df['A']   # 此种形式DataFrame索引为series\n",
    "print()\n",
    "print(a)\n",
    "print()\n",
    "print(a[datas[5]])"
   ]
  },
  {
   "cell_type": "code",
   "execution_count": 19,
   "metadata": {},
   "outputs": [
    {
     "name": "stdout",
     "output_type": "stream",
     "text": [
      "                   A         B         C         D\n",
      "2020-03-28  0.040467  2.502838  1.750702  0.752269\n",
      "2020-03-29 -0.591560 -0.607783  0.390446  0.759989\n",
      "2020-03-30 -0.201351 -1.134350 -0.912988 -0.313645\n",
      "2020-03-31  2.107192  1.267613 -0.421305 -0.286911\n",
      "2020-04-01 -0.263185 -0.974481 -0.655299 -0.672898\n",
      "2020-04-02 -0.668462 -0.668671  0.525188 -0.134835\n",
      "2020-04-03 -1.193671  2.798576  3.594377 -0.016369\n",
      "2020-04-04  1.592835 -0.351965  1.728636  0.547841\n",
      "                   A         B\n",
      "2020-03-28  0.040467  2.502838\n",
      "2020-03-29 -0.591560 -0.607783\n",
      "2020-03-30 -0.201351 -1.134350\n",
      "2020-03-31  2.107192  1.267613\n",
      "2020-04-01 -0.263185 -0.974481\n",
      "2020-04-02 -0.668462 -0.668671\n",
      "2020-04-03 -1.193671  2.798576\n",
      "2020-04-04  1.592835 -0.351965\n",
      "                   A         B         C         D\n",
      "2020-03-28  0.040467  2.502838  1.750702  0.752269\n",
      "2020-03-29 -0.591560 -0.607783  0.390446  0.759989\n",
      "2020-03-30 -0.201351 -1.134350 -0.912988 -0.313645\n"
     ]
    }
   ],
   "source": [
    "print(df)\n",
    "print(df[['A','B']])  # indexing A B 两列\n",
    "print(df[:3]) #索引切片行支持反向和步长"
   ]
  },
  {
   "cell_type": "code",
   "execution_count": 31,
   "metadata": {},
   "outputs": [
    {
     "name": "stdout",
     "output_type": "stream",
     "text": [
      "                   A         B         C         D\n",
      "2020-03-28  0.040467  2.502838  1.750702  0.752269\n",
      "2020-03-29 -0.591560 -0.607783  0.390446  0.759989\n",
      "2020-03-30 -0.201351 -1.134350 -0.912988 -0.313645\n",
      "2020-03-31  2.107192  1.267613 -0.421305 -0.286911\n",
      "2020-04-01 -0.263185 -0.974481 -0.655299 -0.672898\n",
      "2020-04-02 -0.668462 -0.668671  0.525188 -0.134835\n",
      "2020-04-03 -1.193671  2.798576  3.594377 -0.016369\n",
      "2020-04-04  1.592835 -0.351965  1.728636  0.547841\n",
      "                   A         B\n",
      "2020-03-28  0.040467  2.502838\n",
      "2020-03-29 -0.591560 -0.607783\n",
      "2020-03-30 -0.201351 -1.134350\n",
      "2020-03-31  2.107192  1.267613\n",
      "2020-04-01 -0.263185 -0.974481\n",
      "2020-04-02 -0.668462 -0.668671\n",
      "2020-04-03 -1.193671  2.798576\n",
      "2020-04-04  1.592835 -0.351965\n"
     ]
    }
   ],
   "source": [
    "# 使用loc函数索引行列组合,对series而言索引行\n",
    "print(df)\n",
    "print(df.loc[:,['A','B']])  \n",
    "#此种形式错误print(df[[:],['A','B']])"
   ]
  },
  {
   "cell_type": "markdown",
   "metadata": {},
   "source": [
    "### 利用索引修改series和DataFrame值"
   ]
  },
  {
   "cell_type": "code",
   "execution_count": 35,
   "metadata": {},
   "outputs": [
    {
     "name": "stdout",
     "output_type": "stream",
     "text": [
      "a    0\n",
      "b    1\n",
      "c    2\n",
      "d    3\n",
      "dtype: int64\n",
      "                   A         B         C         D\n",
      "2020-03-28  0.040467  2.502838  1.750702  0.752269\n",
      "2020-03-29 -0.591560 -0.607783  0.390446  0.759989\n",
      "2020-03-30 -0.201351 -1.134350 -0.912988 -0.313645\n",
      "2020-03-31  2.107192  1.267613 -0.421305 -0.286911\n",
      "2020-04-01 -0.263185 -0.974481 -0.655299 -0.672898\n",
      "2020-04-02 -0.668462 -0.668671  0.525188 -0.134835\n",
      "2020-04-03 -1.193671  2.798576  3.594377 -0.016369\n",
      "2020-04-04  1.592835 -0.351965  1.728636  0.547841\n"
     ]
    }
   ],
   "source": [
    "sa = pd.Series(range(4),list('abcd'))\n",
    "dfa = df.copy()\n",
    "print(sa)\n",
    "print(dfa)"
   ]
  },
  {
   "cell_type": "code",
   "execution_count": 36,
   "metadata": {},
   "outputs": [
    {
     "name": "stdout",
     "output_type": "stream",
     "text": [
      "a    100\n",
      "b      1\n",
      "c      2\n",
      "d      3\n",
      "dtype: int64\n",
      "            A         B         C         D\n",
      "2020-03-28  0  2.502838  1.750702  0.752269\n",
      "2020-03-29  1 -0.607783  0.390446  0.759989\n",
      "2020-03-30  2 -1.134350 -0.912988 -0.313645\n",
      "2020-03-31  3  1.267613 -0.421305 -0.286911\n",
      "2020-04-01  4 -0.974481 -0.655299 -0.672898\n",
      "2020-04-02  5 -0.668671  0.525188 -0.134835\n",
      "2020-04-03  6  2.798576  3.594377 -0.016369\n",
      "2020-04-04  7 -0.351965  1.728636  0.547841\n"
     ]
    }
   ],
   "source": [
    "sa['a']=100\n",
    "print(sa)\n",
    "dfa['A'] = list(range(len(dfa.index)))\n",
    "print(dfa)"
   ]
  },
  {
   "cell_type": "code",
   "execution_count": 52,
   "metadata": {},
   "outputs": [
    {
     "name": "stdout",
     "output_type": "stream",
     "text": [
      "   y  z\n",
      "0  1  4\n",
      "1  2  5\n",
      "2  3  6\n",
      "   y  z\n",
      "1  2  5\n",
      "2  3  6\n",
      "    y   z\n",
      "0   1   4\n",
      "1  20  50\n",
      "2   3   6\n"
     ]
    }
   ],
   "source": [
    "x = pd.DataFrame({'y':[1,2,3],'z':[4,5,6]})\n",
    "print(x)\n",
    "print(x.iloc[1]) #iloc[:]=DataFrame[:]\n",
    "x.iloc[1]=[20,50]\n",
    "print(x)"
   ]
  },
  {
   "cell_type": "code",
   "execution_count": 41,
   "metadata": {},
   "outputs": [
    {
     "name": "stdout",
     "output_type": "stream",
     "text": [
      "                   A         B         C         D\n",
      "2020-03-28  0.040467  2.502838  1.750702  0.752269\n",
      "2020-03-29 -0.591560 -0.607783  0.390446  0.759989\n",
      "2020-03-30 -0.201351 -1.134350 -0.912988 -0.313645\n",
      "2020-03-31  2.107192  1.267613 -0.421305 -0.286911\n",
      "2020-04-01 -0.263185 -0.974481 -0.655299 -0.672898\n",
      "2020-04-02 -0.668462 -0.668671  0.525188 -0.134835\n",
      "2020-04-03 -1.193671  2.798576  3.594377 -0.016369\n",
      "2020-04-04  1.592835 -0.351965  1.728636  0.547841\n",
      "                A      B      C      D\n",
      "2020-03-28   True   True   True   True\n",
      "2020-03-29  False  False   True   True\n",
      "2020-03-30  False  False  False  False\n",
      "2020-03-31   True   True  False  False\n",
      "2020-04-01  False  False  False  False\n",
      "2020-04-02  False  False   True  False\n",
      "2020-04-03  False   True   True  False\n",
      "2020-04-04   True  False   True   True\n"
     ]
    }
   ],
   "source": [
    "#boolean indexing\n",
    "print(df)\n",
    "print(df>0)  # 返回bool类型"
   ]
  },
  {
   "cell_type": "code",
   "execution_count": 43,
   "metadata": {},
   "outputs": [
    {
     "name": "stdout",
     "output_type": "stream",
     "text": [
      "2020-03-28    0.040467\n",
      "2020-03-29   -0.591560\n",
      "2020-03-30   -0.201351\n",
      "2020-03-31    2.107192\n",
      "2020-04-01   -0.263185\n",
      "2020-04-02   -0.668462\n",
      "2020-04-03   -1.193671\n",
      "2020-04-04    1.592835\n",
      "Freq: D, Name: A, dtype: float64\n",
      "2020-03-28     True\n",
      "2020-03-29    False\n",
      "2020-03-30    False\n",
      "2020-03-31     True\n",
      "2020-04-01    False\n",
      "2020-04-02    False\n",
      "2020-04-03    False\n",
      "2020-04-04     True\n",
      "Freq: D, Name: A, dtype: bool\n"
     ]
    }
   ],
   "source": [
    "dfA = df['A']\n",
    "print(dfA)\n",
    "print(dfA>0)"
   ]
  },
  {
   "cell_type": "code",
   "execution_count": 53,
   "metadata": {},
   "outputs": [
    {
     "name": "stdout",
     "output_type": "stream",
     "text": [
      "                   A         B         C         D\n",
      "2020-03-28  0.040467  2.502838  1.750702  0.752269\n",
      "2020-03-29 -0.591560 -0.607783  0.390446  0.759989\n",
      "2020-03-30 -0.201351 -1.134350 -0.912988 -0.313645\n",
      "2020-03-31  2.107192  1.267613 -0.421305 -0.286911\n",
      "2020-04-01 -0.263185 -0.974481 -0.655299 -0.672898\n",
      "2020-04-02 -0.668462 -0.668671  0.525188 -0.134835\n",
      "2020-04-03 -1.193671  2.798576  3.594377 -0.016369\n",
      "2020-04-04  1.592835 -0.351965  1.728636  0.547841\n",
      "A   -0.591560\n",
      "B   -0.607783\n",
      "C    0.390446\n",
      "D    0.759989\n",
      "Name: 2020-03-29 00:00:00, dtype: float64\n",
      "                   C         D\n",
      "2020-03-28  1.750702  0.752269\n",
      "2020-03-29  0.390446  0.759989\n",
      "2020-03-30 -0.912988 -0.313645\n",
      "2020-03-31 -0.421305 -0.286911\n",
      "2020-04-01 -0.655299 -0.672898\n",
      "2020-04-02  0.525188 -0.134835\n",
      "2020-04-03  3.594377 -0.016369\n",
      "2020-04-04  1.728636  0.547841\n"
     ]
    }
   ],
   "source": [
    "print(df)\n",
    "print(df.loc['2020-03-29'])\n",
    "print(df.loc[:,df.loc['2020-03-29']>0])"
   ]
  },
  {
   "cell_type": "markdown",
   "metadata": {},
   "source": [
    "```python\n",
    "|-iloc与loc的差别:\n",
    "    loc的索引和切片只能通过对应的indexs和columns值进行索引\n",
    "    而iloc系统会从0开始indexs和columns设置下标因此可以直接通过下标\n",
    "    进行索引和切片例子如下\n",
    "```"
   ]
  },
  {
   "cell_type": "code",
   "execution_count": 60,
   "metadata": {},
   "outputs": [
    {
     "name": "stdout",
     "output_type": "stream",
     "text": [
      "a    0\n",
      "b    2\n",
      "c    4\n",
      "d    6\n",
      "dtype: int64\n",
      "         2         4         6         8         10        12\n",
      "a -2.445292  0.048598  0.050947 -0.713184  2.017222 -1.389391\n",
      "b  1.909918 -1.212520  0.552249  1.115173 -0.024809 -0.192347\n",
      "c -0.776439  0.877586  0.569017 -1.741527 -0.022756  0.154204\n",
      "d  0.537282  2.366709 -0.606037  0.860133 -0.707234 -0.297887\n"
     ]
    }
   ],
   "source": [
    "S1 = pd.Series(data=list(range(0,8,2)),index=list('abcd'))\n",
    "print(S1)\n",
    "df1 = pd.DataFrame(data=np.random.randn(4,6),index=list('abcd'),columns=list(range(2,14,2)))\n",
    "print(df1)"
   ]
  },
  {
   "cell_type": "code",
   "execution_count": 64,
   "metadata": {},
   "outputs": [
    {
     "name": "stdout",
     "output_type": "stream",
     "text": [
      "b    2\n",
      "c    4\n",
      "d    6\n",
      "dtype: int64\n",
      "         6         8         10\n",
      "b  0.552249  1.115173 -0.024809\n",
      "c  0.569017 -1.741527 -0.022756\n",
      "d -0.606037  0.860133 -0.707234\n",
      "         6         8         10\n",
      "b  0.552249  1.115173 -0.024809\n",
      "c  0.569017 -1.741527 -0.022756\n",
      "d -0.606037  0.860133 -0.707234\n"
     ]
    }
   ],
   "source": [
    "print(S1.iloc[1:])\n",
    "#此方式不行print(S1.loc[1:])\n",
    "print(df1.iloc[1:4,2:5])\n",
    "#此方式不行print(df1.loc[1:4,2:5])\n",
    "print(df1.loc['b':,6:10])  #这个与上式等价"
   ]
  }
 ],
 "metadata": {
  "kernelspec": {
   "display_name": "Python 3",
   "language": "python",
   "name": "python3"
  },
  "language_info": {
   "codemirror_mode": {
    "name": "ipython",
    "version": 3
   },
   "file_extension": ".py",
   "mimetype": "text/x-python",
   "name": "python",
   "nbconvert_exporter": "python",
   "pygments_lexer": "ipython3",
   "version": "3.7.4"
  }
 },
 "nbformat": 4,
 "nbformat_minor": 4
}
